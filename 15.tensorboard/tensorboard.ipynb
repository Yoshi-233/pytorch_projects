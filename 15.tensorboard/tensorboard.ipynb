{
 "cells": [
  {
   "cell_type": "code",
   "execution_count": 1,
   "id": "573b3dee-1eab-44ce-8f26-c9b84d86ebed",
   "metadata": {
    "ExecuteTime": {
     "end_time": "2024-04-24T13:08:24.652824Z",
     "start_time": "2024-04-24T13:08:24.123046Z"
    }
   },
   "outputs": [
    {
     "ename": "ModuleNotFoundError",
     "evalue": "No module named 'tensorboard'",
     "output_type": "error",
     "traceback": [
      "\u001B[0;31m---------------------------------------------------------------------------\u001B[0m",
      "\u001B[0;31mModuleNotFoundError\u001B[0m                       Traceback (most recent call last)",
      "Cell \u001B[0;32mIn[1], line 3\u001B[0m\n\u001B[1;32m      1\u001B[0m \u001B[38;5;28;01mimport\u001B[39;00m \u001B[38;5;21;01mos\u001B[39;00m\n\u001B[1;32m      2\u001B[0m \u001B[38;5;28;01mimport\u001B[39;00m \u001B[38;5;21;01mdatetime\u001B[39;00m\n\u001B[0;32m----> 3\u001B[0m \u001B[38;5;28;01mfrom\u001B[39;00m \u001B[38;5;21;01mtorch\u001B[39;00m\u001B[38;5;21;01m.\u001B[39;00m\u001B[38;5;21;01mutils\u001B[39;00m\u001B[38;5;21;01m.\u001B[39;00m\u001B[38;5;21;01mtensorboard\u001B[39;00m \u001B[38;5;28;01mimport\u001B[39;00m SummaryWriter\n\u001B[1;32m      5\u001B[0m \u001B[38;5;28;01mclass\u001B[39;00m \u001B[38;5;21;01mLogger\u001B[39;00m(\u001B[38;5;28mobject\u001B[39m):\n\u001B[1;32m      6\u001B[0m     \u001B[38;5;28;01mdef\u001B[39;00m \u001B[38;5;21m__init__\u001B[39m(\u001B[38;5;28mself\u001B[39m, log_dir, log_hist\u001B[38;5;241m=\u001B[39m\u001B[38;5;28;01mTrue\u001B[39;00m):\n",
      "File \u001B[0;32m~/anaconda3/envs/automl/lib/python3.11/site-packages/torch/utils/tensorboard/__init__.py:1\u001B[0m\n\u001B[0;32m----> 1\u001B[0m \u001B[38;5;28;01mimport\u001B[39;00m \u001B[38;5;21;01mtensorboard\u001B[39;00m\n\u001B[1;32m      2\u001B[0m \u001B[38;5;28;01mfrom\u001B[39;00m \u001B[38;5;21;01mtorch\u001B[39;00m\u001B[38;5;21;01m.\u001B[39;00m\u001B[38;5;21;01m_vendor\u001B[39;00m\u001B[38;5;21;01m.\u001B[39;00m\u001B[38;5;21;01mpackaging\u001B[39;00m\u001B[38;5;21;01m.\u001B[39;00m\u001B[38;5;21;01mversion\u001B[39;00m \u001B[38;5;28;01mimport\u001B[39;00m Version\n\u001B[1;32m      4\u001B[0m \u001B[38;5;28;01mif\u001B[39;00m \u001B[38;5;129;01mnot\u001B[39;00m \u001B[38;5;28mhasattr\u001B[39m(tensorboard, \u001B[38;5;124m\"\u001B[39m\u001B[38;5;124m__version__\u001B[39m\u001B[38;5;124m\"\u001B[39m) \u001B[38;5;129;01mor\u001B[39;00m Version(\n\u001B[1;32m      5\u001B[0m     tensorboard\u001B[38;5;241m.\u001B[39m__version__\n\u001B[1;32m      6\u001B[0m ) \u001B[38;5;241m<\u001B[39m Version(\u001B[38;5;124m\"\u001B[39m\u001B[38;5;124m1.15\u001B[39m\u001B[38;5;124m\"\u001B[39m):\n",
      "\u001B[0;31mModuleNotFoundError\u001B[0m: No module named 'tensorboard'"
     ]
    }
   ],
   "source": [
    "import os\n",
    "import datetime\n",
    "from torch.utils.tensorboard import SummaryWriter\n",
    "\n",
    "class Logger(object):\n",
    "    def __init__(self, log_dir, log_hist=True):\n",
    "        \"\"\"Create a summary writer logging to log_dir.\"\"\"\n",
    "        if log_hist:    # Check a new folder for each log should be dreated\n",
    "            log_dir = os.path.join(\n",
    "                log_dir,\n",
    "                datetime.datetime.now().strftime(\"%Y_%m_%d__%H_%M_%S\"))\n",
    "        self.writer = SummaryWriter(log_dir)\n",
    "\n",
    "    def scalar_summary(self, tag, value, step):\n",
    "        \"\"\"Log a scalar variable.\"\"\"\n",
    "        self.writer.add_scalar(tag, value, step)\n",
    "\n",
    "    def list_of_scalars_summary(self, tag_value_pairs, step):\n",
    "        \"\"\"Log scalar variables.\"\"\"\n",
    "        for tag, value in tag_value_pairs:\n",
    "            self.writer.add_scalar(tag, value, step)\n"
   ]
  },
  {
   "cell_type": "code",
   "execution_count": 2,
   "id": "b6a80f48-50a2-40ce-aa68-30b9666f38c9",
   "metadata": {},
   "outputs": [],
   "source": [
    "logger = Logger(\"./\")"
   ]
  },
  {
   "cell_type": "code",
   "execution_count": 5,
   "id": "ffe31f01-0d36-4d65-9e58-f991a7cc130f",
   "metadata": {},
   "outputs": [
    {
     "name": "stdout",
     "output_type": "stream",
     "text": [
      "tensor([[0.6784, 0.6819, 0.0779],\n",
      "        [0.6244, 0.1509, 0.4386],\n",
      "        [0.0016, 0.8810, 0.6941]])\n",
      "tensor([[0.2240, 0.0017, 0.2318],\n",
      "        [0.2486, 0.1422, 0.1606],\n",
      "        [0.5572, 0.9028, 0.2851]])\n",
      "tensor([[0.8816, 0.3422, 0.2116],\n",
      "        [0.0943, 0.1157, 0.6556],\n",
      "        [0.3265, 0.2396, 0.6239]])\n",
      "tensor([[0.7432, 0.9917, 0.9565],\n",
      "        [0.3096, 0.8468, 0.5555],\n",
      "        [0.5297, 0.5470, 0.4385]])\n",
      "tensor([[0.0656, 0.8717, 0.8911],\n",
      "        [0.3291, 0.6991, 0.3101],\n",
      "        [0.9069, 0.7434, 0.5202]])\n"
     ]
    }
   ],
   "source": [
    "import torch\n",
    "for i in range(5):\n",
    "    random_tensor = torch.rand(3, 3)\n",
    "    print(random_tensor)\n",
    "    logger.scalar_summary(\"RandomTensor\", random_tensor.sum(), i)"
   ]
  },
  {
   "cell_type": "code",
   "execution_count": 7,
   "id": "d140a96d-2197-4417-9cd8-7b15a4bb0b7c",
   "metadata": {},
   "outputs": [
    {
     "data": {
      "text/plain": [
       "tensor([[0.4750, 0.9040, 0.1002],\n",
       "        [0.7159, 0.2413, 0.4616],\n",
       "        [0.0056, 0.8019, 0.0550]])"
      ]
     },
     "execution_count": 7,
     "metadata": {},
     "output_type": "execute_result"
    }
   ],
   "source": [
    "random_tensor = torch.rand(3, 3)\n",
    "random_tensor"
   ]
  },
  {
   "cell_type": "code",
   "execution_count": 8,
   "id": "92ec9dc3-6471-472d-948b-f6fffbaa1a14",
   "metadata": {},
   "outputs": [
    {
     "data": {
      "text/plain": [
       "tensor([[0.4750, 0.9040, 0.1002],\n",
       "        [0.7159, 0.2413, 0.4616],\n",
       "        [0.0056, 0.8019, 0.0550]])"
      ]
     },
     "execution_count": 8,
     "metadata": {},
     "output_type": "execute_result"
    }
   ],
   "source": [
    "random_tensor.clamp(0)"
   ]
  },
  {
   "cell_type": "code",
   "execution_count": 27,
   "id": "6aaa0365-fd73-4b4f-be9f-3f42923aecde",
   "metadata": {},
   "outputs": [
    {
     "data": {
      "text/plain": [
       "tensor([[0.6147, 0.3810, 0.6371],\n",
       "        [0.4745, 0.7136, 0.6190],\n",
       "        [0.4425, 0.0958, 0.6142]])"
      ]
     },
     "execution_count": 27,
     "metadata": {},
     "output_type": "execute_result"
    }
   ],
   "source": [
    "torch.manual_seed(2)\n",
    "torch.rand(3, 3)"
   ]
  },
  {
   "cell_type": "code",
   "execution_count": 29,
   "id": "53bb17a3-643e-4f89-8201-43a17455ae0b",
   "metadata": {},
   "outputs": [
    {
     "data": {
      "text/plain": [
       "tensor([[0.3078, 0.9809, 0.0103],\n",
       "        [0.4660, 0.4604, 0.8547],\n",
       "        [0.4525, 0.6317, 0.4760]])"
      ]
     },
     "execution_count": 29,
     "metadata": {},
     "output_type": "execute_result"
    }
   ],
   "source": [
    "torch.rand(3, 3)"
   ]
  },
  {
   "cell_type": "code",
   "execution_count": null,
   "id": "dcada78d-e1ec-4904-8e5e-6fddf7c6a38b",
   "metadata": {},
   "outputs": [],
   "source": []
  }
 ],
 "metadata": {
  "kernelspec": {
   "display_name": "Python 3 (ipykernel)",
   "language": "python",
   "name": "python3"
  },
  "language_info": {
   "codemirror_mode": {
    "name": "ipython",
    "version": 3
   },
   "file_extension": ".py",
   "mimetype": "text/x-python",
   "name": "python",
   "nbconvert_exporter": "python",
   "pygments_lexer": "ipython3",
   "version": "3.11.8"
  },
  "widgets": {
   "application/vnd.jupyter.widget-state+json": {
    "state": {},
    "version_major": 2,
    "version_minor": 0
   }
  }
 },
 "nbformat": 4,
 "nbformat_minor": 5
}
