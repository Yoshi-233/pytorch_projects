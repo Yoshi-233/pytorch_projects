{
 "cells": [
  {
   "cell_type": "code",
   "execution_count": 2,
   "id": "19e7eed9-ea90-4a70-89b5-02d3a1547f62",
   "metadata": {},
   "outputs": [],
   "source": [
    "import torch\n",
    "from torch.nn import functional as F\n",
    "import torch.nn as nn"
   ]
  },
  {
   "cell_type": "code",
   "execution_count": 4,
   "id": "e19a7a02-72f3-4df4-a8ff-97722f92142b",
   "metadata": {},
   "outputs": [
    {
     "data": {
      "text/plain": [
       "tensor([0.0650, 0.8054, 0.8382])"
      ]
     },
     "execution_count": 4,
     "metadata": {},
     "output_type": "execute_result"
    }
   ],
   "source": [
    "x = torch.rand(3)\n",
    "x"
   ]
  },
  {
   "cell_type": "code",
   "execution_count": 8,
   "id": "ddf14c07-2fc7-476f-9fe1-eff4f0090ef4",
   "metadata": {},
   "outputs": [
    {
     "data": {
      "text/plain": [
       "tensor([0.0650, 0.8054, 0.8382, 1.0000, 1.0000])"
      ]
     },
     "execution_count": 8,
     "metadata": {},
     "output_type": "execute_result"
    }
   ],
   "source": [
    "F.pad(x, (0, 2), value=1)"
   ]
  },
  {
   "cell_type": "code",
   "execution_count": 9,
   "id": "2ffca53b-f967-4299-8d36-3a23d2d2db14",
   "metadata": {},
   "outputs": [],
   "source": [
    "y = torch.tensor([\n",
    "        [170,  90,   0,   4,   5,   5,   5,   5,   5,   5],\n",
    "        [ 98,   6, 187, 122,  55, 151,   2,   4,   5,   5],\n",
    "        [  6,   0,   4,   5,   5,   5,   5,   5,   5,   5],\n",
    "        [107, 180,   0,   4,   5,   5,   5,   5,   5,   5],\n",
    "        [  6,  55, 198,   0,   4,   5,   5,   5,   5,   5],\n",
    "        [ 94,  55, 148,   0,   4,   5,   5,   5,   5,   5],\n",
    "        [160,   0,   4,   5,   5,   5,   5,   5,   5,   5],\n",
    "        [  6,   2,   4,   5,   5,   5,   5,   5,   5,   5],\n",
    "        [191,  29,   0,   4,   5,   5,   5,   5,   5,   5],\n",
    "        [ 78,  49,   2,   4,   5,   5,   5,   5,   5,   5],\n",
    "        [  6,   2,   4,   5,   5,   5,   5,   5,   5,   5],\n",
    "        [  6,   0,   4,   5,   5,   5,   5,   5,   5,   5],\n",
    "        [169,   0,   4,   5,   5,   5,   5,   5,   5,   5],\n",
    "        [124,   6,   2,   4,   5,   5,   5,   5,   5,   5],\n",
    "        [  6,   2,   4,   5,   5,   5,   5,   5,   5,   5],\n",
    "        [188,   1, 114,   2,   4,   5,   5,   5,   5,   5],\n",
    "        [  6,   0,   4,   5,   5,   5,   5,   5,   5,   5],\n",
    "        [100, 171,   6,   2,   4,   5,   5,   5,   5,   5],\n",
    "        [ 96,  72, 158,   2,   4,   5,   5,   5,   5,   5],\n",
    "        [100, 171, 132,   2,   4,   5,   5,   5,   5,   5],\n",
    "        [ 46,  35,   6,   0,   4,   5,   5,   5,   5,   5],\n",
    "        [ 96,  71,   2,   4,   5,   5,   5,   5,   5,   5],\n",
    "        [124,  25, 200,  61,   2,   4,   5,   5,   5,   5],\n",
    "        [ 35,  94,  55, 148,   0,   4,   5,   5,   5,   5],\n",
    "        [100, 171, 158,   2,   4,   5,   5,   5,   5,   5],\n",
    "        [145, 134,   7,   4,   5,   5,   5,   5,   5,   5],\n",
    "        [100, 171,  73,   2,   4,   5,   5,   5,   5,   5],\n",
    "        [100, 171, 125,   2,   4,   5,   5,   5,   5,   5],\n",
    "        [  6,  88,   7,   4,   5,   5,   5,   5,   5,   5],\n",
    "        [  6,   0,   4,   5,   5,   5,   5,   5,   5,   5],\n",
    "        [  6,   2,   4,   5,   5,   5,   5,   5,   5,   5],\n",
    "        [124,   6,   6,   2,   4,   5,   5,   5,   5,   5],\n",
    "        [  6,   2,   4,   5,   5,   5,   5,   5,   5,   5],\n",
    "        [124,  25,  88,   2,   4,   5,   5,   5,   5,   5],\n",
    "        [100, 171,  44, 119,   2,   4,   5,   5,   5,   5],\n",
    "        [100,   6,   2,   4,   5,   5,   5,   5,   5,   5],\n",
    "        [  6,  23,  82,   0,   4,   5,   5,   5,   5,   5],\n",
    "        [ 50, 197, 159,   0,   4,   5,   5,   5,   5,   5],\n",
    "        [100, 171, 133,   2,   4,   5,   5,   5,   5,   5],\n",
    "        [ 81,   0,   4,   5,   5,   5,   5,   5,   5,   5],\n",
    "        [100, 194,  68,   6,   2,   4,   5,   5,   5,   5],\n",
    "        [ 96,  72,  31,   2,   4,   5,   5,   5,   5,   5],\n",
    "        [100, 171,  73,   2,   4,   5,   5,   5,   5,   5],\n",
    "        [  6, 188,  28,   2,   4,   5,   5,   5,   5,   5],\n",
    "        [112,   0,   4,   5,   5,   5,   5,   5,   5,   5],\n",
    "        [191,   0,   4,   5,   5,   5,   5,   5,   5,   5],\n",
    "        [ 99,  10,   6,   2,   4,   5,   5,   5,   5,   5],\n",
    "        [100, 194,  68,   6,   2,   4,   5,   5,   5,   5],\n",
    "        [ 31,  33,   0,   4,   5,   5,   5,   5,   5,   5],\n",
    "        [  6,   0,   4,   5,   5,   5,   5,   5,   5,   5],\n",
    "        [  6, 179,   2,   4,   5,   5,   5,   5,   5,   5],\n",
    "        [198,   6,   2,   4,   5,   5,   5,   5,   5,   5],\n",
    "        [188,  23, 111,   0,   4,   5,   5,   5,   5,   5],\n",
    "        [100, 154,   2,   4,   5,   5,   5,   5,   5,   5],\n",
    "        [ 21, 198,   0,   4,   5,   5,   5,   5,   5,   5],\n",
    "        [128,   0,   4,   5,   5,   5,   5,   5,   5,   5],\n",
    "        [ 50,   2,   4,   5,   5,   5,   5,   5,   5,   5],\n",
    "        [  6,   0,   4,   5,   5,   5,   5,   5,   5,   5],\n",
    "        [100, 117, 171,   6,   2,   4,   5,   5,   5,   5],\n",
    "        [ 96,  72,   6,   2,   4,   5,   5,   5,   5,   5],\n",
    "        [100, 171, 129,   2,   4,   5,   5,   5,   5,   5],\n",
    "        [100, 171,  68, 157,   2,   4,   5,   5,   5,   5],\n",
    "        [167,  89,   0,   4,   5,   5,   5,   5,   5,   5],\n",
    "        [  6, 135,   2,   4,   5,   5,   5,   5,   5,   5]\n",
    "    ]\n",
    ")\n",
    "\n",
    "\n",
    "y_hat = torch.rand(64, 10, 32)\n",
    "loss = nn.CrossEntropyLoss(reduction=\"none\")"
   ]
  },
  {
   "cell_type": "code",
   "execution_count": 12,
   "id": "baa4a214-ba1e-4252-b12e-eef1eabf3d09",
   "metadata": {},
   "outputs": [
    {
     "ename": "IndexError",
     "evalue": "Target 169 is out of bounds.",
     "output_type": "error",
     "traceback": [
      "\u001b[0;31m---------------------------------------------------------------------------\u001b[0m",
      "\u001b[0;31mIndexError\u001b[0m                                Traceback (most recent call last)",
      "Cell \u001b[0;32mIn[12], line 1\u001b[0m\n\u001b[0;32m----> 1\u001b[0m \u001b[43mloss\u001b[49m\u001b[43m(\u001b[49m\u001b[43my_hat\u001b[49m\u001b[38;5;241;43m.\u001b[39;49m\u001b[43mtranspose\u001b[49m\u001b[43m(\u001b[49m\u001b[38;5;241;43m2\u001b[39;49m\u001b[43m,\u001b[49m\u001b[43m \u001b[49m\u001b[38;5;241;43m1\u001b[39;49m\u001b[43m)\u001b[49m\u001b[43m,\u001b[49m\u001b[43m \u001b[49m\u001b[43my\u001b[49m\u001b[43m)\u001b[49m\n",
      "File \u001b[0;32m~/anaconda3/envs/automl/lib/python3.11/site-packages/torch/nn/modules/module.py:1511\u001b[0m, in \u001b[0;36mModule._wrapped_call_impl\u001b[0;34m(self, *args, **kwargs)\u001b[0m\n\u001b[1;32m   1509\u001b[0m     \u001b[38;5;28;01mreturn\u001b[39;00m \u001b[38;5;28mself\u001b[39m\u001b[38;5;241m.\u001b[39m_compiled_call_impl(\u001b[38;5;241m*\u001b[39margs, \u001b[38;5;241m*\u001b[39m\u001b[38;5;241m*\u001b[39mkwargs)  \u001b[38;5;66;03m# type: ignore[misc]\u001b[39;00m\n\u001b[1;32m   1510\u001b[0m \u001b[38;5;28;01melse\u001b[39;00m:\n\u001b[0;32m-> 1511\u001b[0m     \u001b[38;5;28;01mreturn\u001b[39;00m \u001b[38;5;28;43mself\u001b[39;49m\u001b[38;5;241;43m.\u001b[39;49m\u001b[43m_call_impl\u001b[49m\u001b[43m(\u001b[49m\u001b[38;5;241;43m*\u001b[39;49m\u001b[43margs\u001b[49m\u001b[43m,\u001b[49m\u001b[43m \u001b[49m\u001b[38;5;241;43m*\u001b[39;49m\u001b[38;5;241;43m*\u001b[39;49m\u001b[43mkwargs\u001b[49m\u001b[43m)\u001b[49m\n",
      "File \u001b[0;32m~/anaconda3/envs/automl/lib/python3.11/site-packages/torch/nn/modules/module.py:1520\u001b[0m, in \u001b[0;36mModule._call_impl\u001b[0;34m(self, *args, **kwargs)\u001b[0m\n\u001b[1;32m   1515\u001b[0m \u001b[38;5;66;03m# If we don't have any hooks, we want to skip the rest of the logic in\u001b[39;00m\n\u001b[1;32m   1516\u001b[0m \u001b[38;5;66;03m# this function, and just call forward.\u001b[39;00m\n\u001b[1;32m   1517\u001b[0m \u001b[38;5;28;01mif\u001b[39;00m \u001b[38;5;129;01mnot\u001b[39;00m (\u001b[38;5;28mself\u001b[39m\u001b[38;5;241m.\u001b[39m_backward_hooks \u001b[38;5;129;01mor\u001b[39;00m \u001b[38;5;28mself\u001b[39m\u001b[38;5;241m.\u001b[39m_backward_pre_hooks \u001b[38;5;129;01mor\u001b[39;00m \u001b[38;5;28mself\u001b[39m\u001b[38;5;241m.\u001b[39m_forward_hooks \u001b[38;5;129;01mor\u001b[39;00m \u001b[38;5;28mself\u001b[39m\u001b[38;5;241m.\u001b[39m_forward_pre_hooks\n\u001b[1;32m   1518\u001b[0m         \u001b[38;5;129;01mor\u001b[39;00m _global_backward_pre_hooks \u001b[38;5;129;01mor\u001b[39;00m _global_backward_hooks\n\u001b[1;32m   1519\u001b[0m         \u001b[38;5;129;01mor\u001b[39;00m _global_forward_hooks \u001b[38;5;129;01mor\u001b[39;00m _global_forward_pre_hooks):\n\u001b[0;32m-> 1520\u001b[0m     \u001b[38;5;28;01mreturn\u001b[39;00m \u001b[43mforward_call\u001b[49m\u001b[43m(\u001b[49m\u001b[38;5;241;43m*\u001b[39;49m\u001b[43margs\u001b[49m\u001b[43m,\u001b[49m\u001b[43m \u001b[49m\u001b[38;5;241;43m*\u001b[39;49m\u001b[38;5;241;43m*\u001b[39;49m\u001b[43mkwargs\u001b[49m\u001b[43m)\u001b[49m\n\u001b[1;32m   1522\u001b[0m \u001b[38;5;28;01mtry\u001b[39;00m:\n\u001b[1;32m   1523\u001b[0m     result \u001b[38;5;241m=\u001b[39m \u001b[38;5;28;01mNone\u001b[39;00m\n",
      "File \u001b[0;32m~/anaconda3/envs/automl/lib/python3.11/site-packages/torch/nn/modules/loss.py:1179\u001b[0m, in \u001b[0;36mCrossEntropyLoss.forward\u001b[0;34m(self, input, target)\u001b[0m\n\u001b[1;32m   1178\u001b[0m \u001b[38;5;28;01mdef\u001b[39;00m \u001b[38;5;21mforward\u001b[39m(\u001b[38;5;28mself\u001b[39m, \u001b[38;5;28minput\u001b[39m: Tensor, target: Tensor) \u001b[38;5;241m-\u001b[39m\u001b[38;5;241m>\u001b[39m Tensor:\n\u001b[0;32m-> 1179\u001b[0m     \u001b[38;5;28;01mreturn\u001b[39;00m \u001b[43mF\u001b[49m\u001b[38;5;241;43m.\u001b[39;49m\u001b[43mcross_entropy\u001b[49m\u001b[43m(\u001b[49m\u001b[38;5;28;43minput\u001b[39;49m\u001b[43m,\u001b[49m\u001b[43m \u001b[49m\u001b[43mtarget\u001b[49m\u001b[43m,\u001b[49m\u001b[43m \u001b[49m\u001b[43mweight\u001b[49m\u001b[38;5;241;43m=\u001b[39;49m\u001b[38;5;28;43mself\u001b[39;49m\u001b[38;5;241;43m.\u001b[39;49m\u001b[43mweight\u001b[49m\u001b[43m,\u001b[49m\n\u001b[1;32m   1180\u001b[0m \u001b[43m                           \u001b[49m\u001b[43mignore_index\u001b[49m\u001b[38;5;241;43m=\u001b[39;49m\u001b[38;5;28;43mself\u001b[39;49m\u001b[38;5;241;43m.\u001b[39;49m\u001b[43mignore_index\u001b[49m\u001b[43m,\u001b[49m\u001b[43m \u001b[49m\u001b[43mreduction\u001b[49m\u001b[38;5;241;43m=\u001b[39;49m\u001b[38;5;28;43mself\u001b[39;49m\u001b[38;5;241;43m.\u001b[39;49m\u001b[43mreduction\u001b[49m\u001b[43m,\u001b[49m\n\u001b[1;32m   1181\u001b[0m \u001b[43m                           \u001b[49m\u001b[43mlabel_smoothing\u001b[49m\u001b[38;5;241;43m=\u001b[39;49m\u001b[38;5;28;43mself\u001b[39;49m\u001b[38;5;241;43m.\u001b[39;49m\u001b[43mlabel_smoothing\u001b[49m\u001b[43m)\u001b[49m\n",
      "File \u001b[0;32m~/anaconda3/envs/automl/lib/python3.11/site-packages/torch/nn/functional.py:3059\u001b[0m, in \u001b[0;36mcross_entropy\u001b[0;34m(input, target, weight, size_average, ignore_index, reduce, reduction, label_smoothing)\u001b[0m\n\u001b[1;32m   3057\u001b[0m \u001b[38;5;28;01mif\u001b[39;00m size_average \u001b[38;5;129;01mis\u001b[39;00m \u001b[38;5;129;01mnot\u001b[39;00m \u001b[38;5;28;01mNone\u001b[39;00m \u001b[38;5;129;01mor\u001b[39;00m reduce \u001b[38;5;129;01mis\u001b[39;00m \u001b[38;5;129;01mnot\u001b[39;00m \u001b[38;5;28;01mNone\u001b[39;00m:\n\u001b[1;32m   3058\u001b[0m     reduction \u001b[38;5;241m=\u001b[39m _Reduction\u001b[38;5;241m.\u001b[39mlegacy_get_string(size_average, reduce)\n\u001b[0;32m-> 3059\u001b[0m \u001b[38;5;28;01mreturn\u001b[39;00m \u001b[43mtorch\u001b[49m\u001b[38;5;241;43m.\u001b[39;49m\u001b[43m_C\u001b[49m\u001b[38;5;241;43m.\u001b[39;49m\u001b[43m_nn\u001b[49m\u001b[38;5;241;43m.\u001b[39;49m\u001b[43mcross_entropy_loss\u001b[49m\u001b[43m(\u001b[49m\u001b[38;5;28;43minput\u001b[39;49m\u001b[43m,\u001b[49m\u001b[43m \u001b[49m\u001b[43mtarget\u001b[49m\u001b[43m,\u001b[49m\u001b[43m \u001b[49m\u001b[43mweight\u001b[49m\u001b[43m,\u001b[49m\u001b[43m \u001b[49m\u001b[43m_Reduction\u001b[49m\u001b[38;5;241;43m.\u001b[39;49m\u001b[43mget_enum\u001b[49m\u001b[43m(\u001b[49m\u001b[43mreduction\u001b[49m\u001b[43m)\u001b[49m\u001b[43m,\u001b[49m\u001b[43m \u001b[49m\u001b[43mignore_index\u001b[49m\u001b[43m,\u001b[49m\u001b[43m \u001b[49m\u001b[43mlabel_smoothing\u001b[49m\u001b[43m)\u001b[49m\n",
      "\u001b[0;31mIndexError\u001b[0m: Target 169 is out of bounds."
     ]
    }
   ],
   "source": [
    "loss(y_hat.transpose(2, 1), y)"
   ]
  },
  {
   "cell_type": "code",
   "execution_count": null,
   "id": "02d1ed5d-1802-40dc-bf3a-b2c92240c3a8",
   "metadata": {},
   "outputs": [],
   "source": []
  }
 ],
 "metadata": {
  "kernelspec": {
   "display_name": "Python 3 (ipykernel)",
   "language": "python",
   "name": "python3"
  },
  "language_info": {
   "codemirror_mode": {
    "name": "ipython",
    "version": 3
   },
   "file_extension": ".py",
   "mimetype": "text/x-python",
   "name": "python",
   "nbconvert_exporter": "python",
   "pygments_lexer": "ipython3",
   "version": "3.11.6"
  }
 },
 "nbformat": 4,
 "nbformat_minor": 5
}
