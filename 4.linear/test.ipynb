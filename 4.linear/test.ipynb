{
 "cells": [
  {
   "cell_type": "code",
   "execution_count": 1,
   "id": "initial_id",
   "metadata": {
    "collapsed": true,
    "ExecuteTime": {
     "end_time": "2024-03-24T05:53:55.535091Z",
     "start_time": "2024-03-24T05:53:55.531512Z"
    }
   },
   "outputs": [],
   "source": [
    "def my_function(a, b, c):\n",
    "    print(a, b, c)"
   ]
  },
  {
   "cell_type": "code",
   "outputs": [
    {
     "name": "stdout",
     "output_type": "stream",
     "text": [
      "1 2 3\n"
     ]
    }
   ],
   "source": [
    "args = (1, 2, 3)\n",
    "my_function(*args)"
   ],
   "metadata": {
    "collapsed": false,
    "ExecuteTime": {
     "end_time": "2024-03-24T05:54:04.780612Z",
     "start_time": "2024-03-24T05:54:04.777951Z"
    }
   },
   "id": "58af5988b58d9781",
   "execution_count": 2
  },
  {
   "cell_type": "code",
   "outputs": [
    {
     "name": "stdout",
     "output_type": "stream",
     "text": [
      "[1, 2, 3] [4, 5, 6] [7, 8, 9]\n"
     ]
    }
   ],
   "source": [
    "args = [[1, 2, 3], [4, 5, 6], [7, 8, 9]]\n",
    "my_function(*args)"
   ],
   "metadata": {
    "collapsed": false,
    "ExecuteTime": {
     "end_time": "2024-03-24T05:54:21.624127Z",
     "start_time": "2024-03-24T05:54:21.621319Z"
    }
   },
   "id": "15b6f985e69ae323",
   "execution_count": 4
  },
  {
   "cell_type": "code",
   "outputs": [
    {
     "name": "stdout",
     "output_type": "stream",
     "text": [
      "(1, 2, 3) (4, 5, 6) (7, 8, 9)\n"
     ]
    }
   ],
   "source": [
    "args = [(1, 2, 3), (4, 5, 6), (7, 8, 9)]\n",
    "my_function(*args)"
   ],
   "metadata": {
    "collapsed": false,
    "ExecuteTime": {
     "end_time": "2024-03-24T05:54:53.306859Z",
     "start_time": "2024-03-24T05:54:53.304228Z"
    }
   },
   "id": "dc08da1e1fb21a4d",
   "execution_count": 6
  },
  {
   "cell_type": "code",
   "outputs": [
    {
     "name": "stdout",
     "output_type": "stream",
     "text": [
      "(1, 2, 3)\n",
      "('a', 'b', 'c')\n"
     ]
    }
   ],
   "source": [
    "pairs = [(1, 'a', 'x'), (2, 'b', 'y'), (3, 'c', 'z')]\n",
    "numbers, letters, _ = zip(*pairs)\n",
    "\n",
    "print(numbers)  # 输出 (1, 2, 3)\n",
    "print(letters)  # 输出 ('a', 'b', 'c')\n"
   ],
   "metadata": {
    "collapsed": false,
    "ExecuteTime": {
     "end_time": "2024-03-24T06:09:53.364270Z",
     "start_time": "2024-03-24T06:09:53.361331Z"
    }
   },
   "id": "4bbeb1f218805cec",
   "execution_count": 11
  },
  {
   "cell_type": "code",
   "outputs": [
    {
     "name": "stdout",
     "output_type": "stream",
     "text": [
      "(1, 'a') (2, 'b') (3, 'c')\n"
     ]
    }
   ],
   "source": [
    "my_function(*pairs)"
   ],
   "metadata": {
    "collapsed": false,
    "ExecuteTime": {
     "end_time": "2024-03-24T05:55:43.047499Z",
     "start_time": "2024-03-24T05:55:43.045239Z"
    }
   },
   "id": "cbbbf694a37300d",
   "execution_count": 9
  },
  {
   "cell_type": "code",
   "outputs": [],
   "source": [
    "x = [1, 2, 3, [2]]"
   ],
   "metadata": {
    "collapsed": false,
    "ExecuteTime": {
     "end_time": "2024-03-24T06:10:12.771152Z",
     "start_time": "2024-03-24T06:10:12.768966Z"
    }
   },
   "id": "420494bc9e46ddd1",
   "execution_count": 12
  },
  {
   "cell_type": "code",
   "outputs": [
    {
     "data": {
      "text/plain": "4"
     },
     "execution_count": 13,
     "metadata": {},
     "output_type": "execute_result"
    }
   ],
   "source": [
    "len(x)"
   ],
   "metadata": {
    "collapsed": false,
    "ExecuteTime": {
     "end_time": "2024-03-24T06:10:24.189746Z",
     "start_time": "2024-03-24T06:10:24.184993Z"
    }
   },
   "id": "bd8406d46880b1d1",
   "execution_count": 13
  },
  {
   "cell_type": "code",
   "outputs": [],
   "source": [
    "from d2l import torch as d2l"
   ],
   "metadata": {
    "collapsed": false,
    "ExecuteTime": {
     "end_time": "2024-03-24T06:11:56.177670Z",
     "start_time": "2024-03-24T06:11:55.338539Z"
    }
   },
   "id": "bb262c8212f12437",
   "execution_count": 14
  },
  {
   "cell_type": "code",
   "outputs": [],
   "source": [
    "x = d2l.tensor([1, 2, 3]).reshape(3, 1)"
   ],
   "metadata": {
    "collapsed": false,
    "ExecuteTime": {
     "end_time": "2024-03-24T06:12:33.977192Z",
     "start_time": "2024-03-24T06:12:33.974653Z"
    }
   },
   "id": "84e7b2e3df03d7cf",
   "execution_count": 16
  },
  {
   "cell_type": "code",
   "outputs": [],
   "source": [],
   "metadata": {
    "collapsed": false
   },
   "id": "546b1e6f9ba546c9"
  }
 ],
 "metadata": {
  "kernelspec": {
   "display_name": "Python 3",
   "language": "python",
   "name": "python3"
  },
  "language_info": {
   "codemirror_mode": {
    "name": "ipython",
    "version": 2
   },
   "file_extension": ".py",
   "mimetype": "text/x-python",
   "name": "python",
   "nbconvert_exporter": "python",
   "pygments_lexer": "ipython2",
   "version": "2.7.6"
  }
 },
 "nbformat": 4,
 "nbformat_minor": 5
}
