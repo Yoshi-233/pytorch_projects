{
 "cells": [
  {
   "cell_type": "code",
   "execution_count": null,
   "id": "initial_id",
   "metadata": {
    "collapsed": true
   },
   "outputs": [],
   "source": [
    "import torch"
   ]
  },
  {
   "cell_type": "code",
   "outputs": [],
   "source": [
    "print(torch.__version__)"
   ],
   "metadata": {
    "collapsed": false
   },
   "id": "8bc53c979bd6d28d",
   "execution_count": null
  },
  {
   "cell_type": "code",
   "outputs": [],
   "source": [
    "arr_org = torch.tensor([[1, 2, 3], [4, 5, 6]])\n",
    "print(hex(id(arr_org)))\n",
    "print(hex(arr_org.data_ptr()))"
   ],
   "metadata": {
    "collapsed": false
   },
   "id": "78d82904a712acb1",
   "execution_count": null
  },
  {
   "cell_type": "code",
   "outputs": [],
   "source": [
    "arr1 = arr_org.reshape(3, 2)\n",
    "print(hex(id(arr1)))\n",
    "print(hex(arr1.data_ptr()))"
   ],
   "metadata": {
    "collapsed": false
   },
   "id": "3b2dea13cccd3493",
   "execution_count": null
  },
  {
   "cell_type": "code",
   "outputs": [],
   "source": [
    "arr2 = arr_org.reshape(1, 6)\n",
    "print(hex(id(arr2)))\n",
    "print(hex(arr2.data_ptr()))"
   ],
   "metadata": {
    "collapsed": false
   },
   "id": "cf25062585eddb3a",
   "execution_count": null
  },
  {
   "cell_type": "code",
   "outputs": [],
   "source": [
    "%matplotlib inline\n",
    "from d2l import torch as d2l\n",
    "import random\n",
    "from typing import Tuple"
   ],
   "metadata": {
    "collapsed": false
   },
   "id": "7a09b87bdfae2d28",
   "execution_count": null
  },
  {
   "cell_type": "markdown",
   "source": [
    "# 定义随机数据"
   ],
   "metadata": {
    "collapsed": false
   },
   "id": "82cf599ce229dd6d"
  },
  {
   "cell_type": "code",
   "outputs": [],
   "source": [
    "def synthetic_data(w: torch.Tensor, b: float, num_examples: int) -> Tuple[torch.Tensor, torch.Tensor]:\n",
    "    X = torch.normal(0, 1, (num_examples, w.shape[0]))\n",
    "    y = torch.matmul(X, w) + b\n",
    "    y += torch.normal(0, 0.01, y.shape)\n",
    "    return X, y"
   ],
   "metadata": {
    "collapsed": false
   },
   "id": "fa602fa7c6098f93",
   "execution_count": null
  },
  {
   "cell_type": "code",
   "outputs": [],
   "source": [
    "true_w = torch.tensor([2, -3.4])\n",
    "true_b = 4.3\n",
    "features, labels = synthetic_data(true_w, true_b, 1000)\n",
    "print(features.shape, labels.shape)"
   ],
   "metadata": {
    "collapsed": false
   },
   "id": "a840b6d2e6b8e4f7",
   "execution_count": null
  },
  {
   "cell_type": "code",
   "outputs": [],
   "source": [
    "d2l.set_figsize((8,4))\n",
    "d2l.plt.scatter(features[:, 1], labels, 1)"
   ],
   "metadata": {
    "collapsed": false
   },
   "id": "6ed9607374d577e6",
   "execution_count": null
  },
  {
   "cell_type": "markdown",
   "source": [
    "# 定义数据迭代器"
   ],
   "metadata": {
    "collapsed": false
   },
   "id": "3b9f642fdd832287"
  },
  {
   "cell_type": "code",
   "outputs": [],
   "source": [
    "def data_iter(batch_size, features, labels):\n",
    "    num_examples = len(features)\n",
    "    indices = list(range(num_examples))\n",
    "    random.shuffle(indices)\n",
    "    for i in range(0, num_examples, batch_size):\n",
    "        batch_indices = torch.tensor(indices[i: min(i + batch_size, num_examples)])\n",
    "        yield features[batch_indices], labels[batch_indices]"
   ],
   "metadata": {
    "collapsed": false
   },
   "id": "5750fb26c692b924",
   "execution_count": null
  },
  {
   "cell_type": "code",
   "outputs": [],
   "source": [
    "batch_size = 10\n",
    "for X, y in data_iter(batch_size, features, labels):\n",
    "    print(X, '\\n', y)\n",
    "    break"
   ],
   "metadata": {
    "collapsed": false
   },
   "id": "f97b20b539c31557",
   "execution_count": null
  },
  {
   "cell_type": "markdown",
   "source": [
    "# 初始化数据"
   ],
   "metadata": {
    "collapsed": false
   },
   "id": "d8155e314ab26dcc"
  },
  {
   "cell_type": "code",
   "outputs": [],
   "source": [
    "w = torch.normal(0, 0.01, size=(2, 1), requires_grad=True)\n",
    "b = torch.zeros(1, requires_grad=True)\n",
    "print(w.shape, b.shape)"
   ],
   "metadata": {
    "collapsed": false
   },
   "id": "f65001382cac75d6",
   "execution_count": null
  },
  {
   "cell_type": "markdown",
   "source": [
    "# 定义线性模型"
   ],
   "metadata": {
    "collapsed": false
   },
   "id": "e5bbca2a5ff5fb80"
  },
  {
   "cell_type": "code",
   "outputs": [],
   "source": [
    "def linreg(X: torch.Tensor, w: torch.Tensor, b: torch.Tensor) -> torch.Tensor:\n",
    "    return torch.matmul(X, w) + b"
   ],
   "metadata": {
    "collapsed": false
   },
   "id": "1e960429b6895f6a",
   "execution_count": null
  },
  {
   "cell_type": "code",
   "outputs": [],
   "source": [
    "print(linreg(features, w, b).shape)"
   ],
   "metadata": {
    "collapsed": false
   },
   "id": "aa8269611ad40f75",
   "execution_count": null
  },
  {
   "cell_type": "markdown",
   "source": [
    "# 定义损失函数"
   ],
   "metadata": {
    "collapsed": false
   },
   "id": "743ce8751a7d3a1b"
  },
  {
   "cell_type": "code",
   "outputs": [],
   "source": [
    "def squared_loss(y_hat: torch.Tensor, y: torch.Tensor) -> torch.Tensor:\n",
    "    return (y_hat - y.reshape(y_hat.shape)) ** 2 / 2"
   ],
   "metadata": {
    "collapsed": false
   },
   "id": "ebe5ffca6fd39a14",
   "execution_count": null
  },
  {
   "cell_type": "code",
   "outputs": [],
   "source": [
    "y_hat = linreg(features, w, b)\n",
    "loss = squared_loss(y_hat, labels)\n",
    "print(loss.shape)"
   ],
   "metadata": {
    "collapsed": false
   },
   "id": "a76310eb5c61c631",
   "execution_count": null
  },
  {
   "cell_type": "markdown",
   "source": [
    "# 定义优化算法"
   ],
   "metadata": {
    "collapsed": false
   },
   "id": "e219bb9afd96e99c"
  },
  {
   "cell_type": "code",
   "outputs": [],
   "source": [
    "def sgd(params: Tuple[torch.Tensor], lr: float, batch_size: int) -> None:\n",
    "    with torch.no_grad():\n",
    "        for param in params:\n",
    "            param.data -= lr * param.grad / batch_size\n",
    "            param.grad.zero_()"
   ],
   "metadata": {
    "collapsed": false
   },
   "id": "5151ce23f0d7b87b",
   "execution_count": null
  },
  {
   "cell_type": "markdown",
   "source": [
    "# 训练模型"
   ],
   "metadata": {
    "collapsed": false
   },
   "id": "43c5ffcd41e94235"
  },
  {
   "cell_type": "code",
   "outputs": [],
   "source": [
    "lr = 0.03\n",
    "num_epochs = 3\n",
    "net = linreg\n",
    "loss_fn = squared_loss\n",
    "batch_size = 10"
   ],
   "metadata": {
    "collapsed": false
   },
   "id": "b122f8b14968ea99",
   "execution_count": null
  },
  {
   "cell_type": "code",
   "outputs": [],
   "source": [
    "for epoch in range(num_epochs):\n",
    "    for X, y in data_iter(10, features, labels):\n",
    "        l = loss_fn(net(X, w, b), y)\n",
    "        l.sum().backward()\n",
    "        sgd([w, b], lr, batch_size)\n",
    "    with torch.no_grad():\n",
    "        train_l = loss_fn(net(features, w, b), labels)\n",
    "        print(f'epoch {epoch + 1}, loss {float(train_l.mean()):f}')"
   ],
   "metadata": {
    "collapsed": false
   },
   "id": "2c40d10cf64e0559",
   "execution_count": null
  },
  {
   "cell_type": "code",
   "outputs": [],
   "source": [],
   "metadata": {
    "collapsed": false
   },
   "id": "334662b4830f6b7a"
  }
 ],
 "metadata": {
  "kernelspec": {
   "display_name": "Python 3",
   "language": "python",
   "name": "python3"
  },
  "language_info": {
   "codemirror_mode": {
    "name": "ipython",
    "version": 2
   },
   "file_extension": ".py",
   "mimetype": "text/x-python",
   "name": "python",
   "nbconvert_exporter": "python",
   "pygments_lexer": "ipython2",
   "version": "2.7.6"
  }
 },
 "nbformat": 4,
 "nbformat_minor": 5
}
