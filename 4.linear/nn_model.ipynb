{
 "cells": [
  {
   "cell_type": "code",
   "execution_count": 1,
   "id": "initial_id",
   "metadata": {
    "collapsed": true,
    "ExecuteTime": {
     "end_time": "2024-03-24T05:51:14.060438Z",
     "start_time": "2024-03-24T05:51:13.234042Z"
    }
   },
   "outputs": [],
   "source": [
    "import numpy as np\n",
    "import torch\n",
    "from torch.utils import data\n",
    "from d2l import torch as d2l"
   ]
  },
  {
   "cell_type": "markdown",
   "source": [
    "# 定义数据"
   ],
   "metadata": {
    "collapsed": false
   },
   "id": "a7e80f8333475307"
  },
  {
   "cell_type": "code",
   "outputs": [
    {
     "name": "stdout",
     "output_type": "stream",
     "text": [
      "torch.Size([1000, 2]) torch.Size([1000, 1])\n"
     ]
    }
   ],
   "source": [
    "true_w = torch.tensor([2, -3.4])\n",
    "true_b = 4.2\n",
    "features, labels = d2l.synthetic_data(true_w, true_b, 1000)\n",
    "print(features.shape, labels.shape)"
   ],
   "metadata": {
    "collapsed": false,
    "ExecuteTime": {
     "end_time": "2024-03-24T06:13:47.961937Z",
     "start_time": "2024-03-24T06:13:47.958490Z"
    }
   },
   "id": "4af284a7864e4454",
   "execution_count": 3
  },
  {
   "cell_type": "markdown",
   "source": [
    "# 使用torch的dataloader"
   ],
   "metadata": {
    "collapsed": false
   },
   "id": "4e5403581522595f"
  },
  {
   "cell_type": "code",
   "outputs": [],
   "source": [
    "def load_array(data_arrays, batch_size, is_train=True):\n",
    "    dataset = data.TensorDataset(*data_arrays)\n",
    "    return data.DataLoader(dataset, batch_size, shuffle=is_train)"
   ],
   "metadata": {
    "collapsed": false,
    "ExecuteTime": {
     "end_time": "2024-03-24T06:14:10.374513Z",
     "start_time": "2024-03-24T06:14:10.371522Z"
    }
   },
   "id": "d560cabecfbc6380",
   "execution_count": 4
  },
  {
   "cell_type": "code",
   "outputs": [],
   "source": [
    "batch_size = 10\n",
    "data_iter = load_array((features, labels), batch_size)"
   ],
   "metadata": {
    "collapsed": false,
    "ExecuteTime": {
     "end_time": "2024-03-24T06:14:11.102253Z",
     "start_time": "2024-03-24T06:14:11.099479Z"
    }
   },
   "id": "f7d7a2402e4480f",
   "execution_count": 5
  },
  {
   "cell_type": "code",
   "outputs": [
    {
     "name": "stdout",
     "output_type": "stream",
     "text": [
      "True\n",
      "False\n"
     ]
    }
   ],
   "source": [
    "from collections import abc\n",
    "print(isinstance(data_iter, abc.Iterable))\n",
    "print(isinstance(data_iter, abc.Iterator))"
   ],
   "metadata": {
    "collapsed": false,
    "ExecuteTime": {
     "end_time": "2024-03-24T06:16:10.023607Z",
     "start_time": "2024-03-24T06:16:10.020605Z"
    }
   },
   "id": "d6effdf2c3b6e07c",
   "execution_count": 9
  },
  {
   "cell_type": "code",
   "outputs": [
    {
     "data": {
      "text/plain": "100"
     },
     "execution_count": 10,
     "metadata": {},
     "output_type": "execute_result"
    }
   ],
   "source": [
    "len(data_iter)"
   ],
   "metadata": {
    "collapsed": false,
    "ExecuteTime": {
     "end_time": "2024-03-24T06:17:35.137195Z",
     "start_time": "2024-03-24T06:17:35.133804Z"
    }
   },
   "id": "404b010ff2d30e97",
   "execution_count": 10
  },
  {
   "cell_type": "code",
   "outputs": [
    {
     "name": "stdout",
     "output_type": "stream",
     "text": [
      "tensor([[-0.9751,  0.5965],\n",
      "        [-1.2753, -0.7557],\n",
      "        [-0.2709, -0.3327],\n",
      "        [-1.9259, -0.9318],\n",
      "        [-1.9812, -0.5369],\n",
      "        [ 0.7181, -0.2470],\n",
      "        [-0.1015,  0.2408],\n",
      "        [-0.4564, -0.8654],\n",
      "        [ 1.0131, -0.0592],\n",
      "        [-0.1876, -1.0624]]) tensor([[0.2146],\n",
      "        [4.2315],\n",
      "        [4.7846],\n",
      "        [3.5228],\n",
      "        [2.0758],\n",
      "        [6.4618],\n",
      "        [3.1763],\n",
      "        [6.2434],\n",
      "        [6.4302],\n",
      "        [7.4330]])\n"
     ]
    }
   ],
   "source": [
    "test_x, test_y = next(iter(data_iter))\n",
    "print(test_x, test_y)"
   ],
   "metadata": {
    "collapsed": false,
    "ExecuteTime": {
     "end_time": "2024-03-24T06:18:49.650461Z",
     "start_time": "2024-03-24T06:18:49.646245Z"
    }
   },
   "id": "e35f66c5a9a006c8",
   "execution_count": 12
  },
  {
   "cell_type": "code",
   "outputs": [],
   "source": [
    "from torch import nn\n",
    "\n",
    "net = nn.Sequential(nn.Linear(2, 1))"
   ],
   "metadata": {
    "collapsed": false,
    "ExecuteTime": {
     "end_time": "2024-03-24T06:27:11.328934Z",
     "start_time": "2024-03-24T06:27:11.316071Z"
    }
   },
   "id": "2bcf12a479a7cbd",
   "execution_count": 15
  },
  {
   "cell_type": "code",
   "outputs": [
    {
     "name": "stdout",
     "output_type": "stream",
     "text": [
      "['T_destination', '__add__', '__annotations__', '__call__', '__class__', '__delattr__', '__delitem__', '__dict__', '__dir__', '__doc__', '__eq__', '__format__', '__ge__', '__getattr__', '__getattribute__', '__getitem__', '__gt__', '__hash__', '__iadd__', '__imul__', '__init__', '__init_subclass__', '__iter__', '__le__', '__len__', '__lt__', '__module__', '__mul__', '__ne__', '__new__', '__reduce__', '__reduce_ex__', '__repr__', '__rmul__', '__setattr__', '__setitem__', '__setstate__', '__sizeof__', '__str__', '__subclasshook__', '__weakref__', '_apply', '_backward_hooks', '_buffers', '_call_impl', '_forward_hooks', '_forward_pre_hooks', '_get_backward_hooks', '_get_item_by_idx', '_get_name', '_is_full_backward_hook', '_load_from_state_dict', '_load_state_dict_post_hooks', '_load_state_dict_pre_hooks', '_maybe_warn_non_full_backward_hook', '_modules', '_named_members', '_non_persistent_buffers_set', '_parameters', '_register_load_state_dict_pre_hook', '_register_state_dict_hook', '_replicate_for_data_parallel', '_save_to_state_dict', '_slow_forward', '_state_dict_hooks', '_version', 'add_module', 'append', 'apply', 'bfloat16', 'buffers', 'children', 'cpu', 'cuda', 'double', 'dump_patches', 'eval', 'extend', 'extra_repr', 'float', 'forward', 'get_buffer', 'get_extra_state', 'get_parameter', 'get_submodule', 'half', 'insert', 'ipu', 'load_state_dict', 'modules', 'named_buffers', 'named_children', 'named_modules', 'named_parameters', 'parameters', 'pop', 'register_backward_hook', 'register_buffer', 'register_forward_hook', 'register_forward_pre_hook', 'register_full_backward_hook', 'register_load_state_dict_post_hook', 'register_module', 'register_parameter', 'requires_grad_', 'set_extra_state', 'share_memory', 'state_dict', 'to', 'to_empty', 'train', 'training', 'type', 'xpu', 'zero_grad']\n"
     ]
    }
   ],
   "source": [
    "print(dir(net))"
   ],
   "metadata": {
    "collapsed": false,
    "ExecuteTime": {
     "end_time": "2024-03-24T06:27:23.873396Z",
     "start_time": "2024-03-24T06:27:23.870799Z"
    }
   },
   "id": "f23035ce6d098fa6",
   "execution_count": 16
  },
  {
   "cell_type": "code",
   "outputs": [
    {
     "name": "stdout",
     "output_type": "stream",
     "text": [
      "1\n",
      "<class 'torch.nn.modules.container.Sequential'>\n",
      "<class 'torch.nn.modules.linear.Linear'>\n",
      "True\n",
      "False\n"
     ]
    }
   ],
   "source": [
    "print(len(net))\n",
    "print(type(net))\n",
    "print(type(net[0]))\n",
    "print(isinstance(net, abc.Iterable))\n",
    "print(isinstance(net, abc.Iterator))"
   ],
   "metadata": {
    "collapsed": false,
    "ExecuteTime": {
     "end_time": "2024-03-24T06:29:34.072571Z",
     "start_time": "2024-03-24T06:29:34.069867Z"
    }
   },
   "id": "6b5d9f047aacae89",
   "execution_count": 20
  },
  {
   "cell_type": "code",
   "outputs": [
    {
     "name": "stdout",
     "output_type": "stream",
     "text": [
      "torch.Size([1, 2]) torch.Size([1])\n",
      "tensor([[0.6793, 0.3626]]) tensor([-0.3012])\n",
      "tensor([[0.0023, 0.0035]]) tensor([0.])\n"
     ]
    }
   ],
   "source": [
    "# print(dir(net[0]))\n",
    "print(net[0].weight.shape, net[0].bias.shape)\n",
    "print(net[0].weight.data, net[0].bias.data)\n",
    "net[0].weight.data.normal_(0, 0.01)\n",
    "net[0].bias.data.fill_(0)\n",
    "print(net[0].weight.data, net[0].bias.data)"
   ],
   "metadata": {
    "collapsed": false,
    "ExecuteTime": {
     "end_time": "2024-03-24T07:05:36.000689Z",
     "start_time": "2024-03-24T07:05:35.996737Z"
    }
   },
   "id": "3a6e4b1d49186cc9",
   "execution_count": 54
  },
  {
   "cell_type": "code",
   "outputs": [
    {
     "name": "stdout",
     "output_type": "stream",
     "text": [
      "Parameter containing:\n",
      "tensor([[0.0023, 0.0035]], requires_grad=True)\n",
      "Parameter containing:\n",
      "tensor([[0.0023, 0.0035]], requires_grad=True)\n",
      "Parameter containing:\n",
      "tensor([0.], requires_grad=True)\n"
     ]
    }
   ],
   "source": [
    "print(next(net.parameters()))\n",
    "for param in net.parameters():\n",
    "    print(param)"
   ],
   "metadata": {
    "collapsed": false,
    "ExecuteTime": {
     "end_time": "2024-03-24T07:08:40.175006Z",
     "start_time": "2024-03-24T07:08:40.171637Z"
    }
   },
   "id": "1d92f449ac504faa",
   "execution_count": 61
  },
  {
   "cell_type": "code",
   "outputs": [
    {
     "data": {
      "text/plain": "False"
     },
     "execution_count": 66,
     "metadata": {},
     "output_type": "execute_result"
    }
   ],
   "source": [
    "loss = nn.MSELoss()\n",
    "optimizer = torch.optim.SGD(net.parameters(), lr=0.3)\n",
    "isinstance(loss, abc.Iterable)"
   ],
   "metadata": {
    "collapsed": false,
    "ExecuteTime": {
     "end_time": "2024-03-24T07:10:37.985402Z",
     "start_time": "2024-03-24T07:10:37.981585Z"
    }
   },
   "id": "5318389112b2706b",
   "execution_count": 66
  },
  {
   "cell_type": "code",
   "outputs": [
    {
     "ename": "ModuleNotFoundError",
     "evalue": "No module named 'tqdm'",
     "output_type": "error",
     "traceback": [
      "\u001B[0;31m---------------------------------------------------------------------------\u001B[0m",
      "\u001B[0;31mModuleNotFoundError\u001B[0m                       Traceback (most recent call last)",
      "\u001B[0;32m/tmp/ipykernel_8742/866930617.py\u001B[0m in \u001B[0;36m<module>\u001B[0;34m\u001B[0m\n\u001B[0;32m----> 1\u001B[0;31m \u001B[0;32mimport\u001B[0m \u001B[0mtqdm\u001B[0m\u001B[0;34m\u001B[0m\u001B[0;34m\u001B[0m\u001B[0m\n\u001B[0m",
      "\u001B[0;31mModuleNotFoundError\u001B[0m: No module named 'tqdm'"
     ]
    }
   ],
   "source": [
    "import tqdm"
   ],
   "metadata": {
    "collapsed": false,
    "ExecuteTime": {
     "end_time": "2024-03-24T07:14:39.163813Z",
     "start_time": "2024-03-24T07:14:39.157796Z"
    }
   },
   "id": "f57f8883a4129102",
   "execution_count": 69
  },
  {
   "cell_type": "code",
   "outputs": [
    {
     "name": "stdout",
     "output_type": "stream",
     "text": [
      "epoch 1, loss 0.000107\n",
      "epoch 2, loss 0.000100\n",
      "epoch 3, loss 0.000117\n"
     ]
    }
   ],
   "source": [
    "num_epochs = 3\n",
    "for epoch in range(num_epochs):\n",
    "    for x_batch, y_batch in data_iter:\n",
    "        l = loss(net(x_batch), y_batch)\n",
    "        optimizer.zero_grad()\n",
    "        l.backward()\n",
    "        optimizer.step()\n",
    "        \n",
    "    l = loss(net(features), labels)\n",
    "    print(f'epoch {epoch + 1}, loss {l:f}')\n"
   ],
   "metadata": {
    "collapsed": false,
    "ExecuteTime": {
     "end_time": "2024-03-24T07:14:02.899932Z",
     "start_time": "2024-03-24T07:14:02.866643Z"
    }
   },
   "id": "4d3ef7e77eaac4a",
   "execution_count": 68
  },
  {
   "cell_type": "code",
   "outputs": [],
   "source": [
    "print(true_w, '\\n', net[0].weight.data)"
   ],
   "metadata": {
    "collapsed": false
   },
   "id": "8f7c5fe9d67886dc"
  },
  {
   "cell_type": "code",
   "outputs": [
    {
     "name": "stdout",
     "output_type": "stream",
     "text": [
      "torch.Size([10, 1])\n"
     ]
    }
   ],
   "source": [
    "print(net[0].forward(test_x).shape)"
   ],
   "metadata": {
    "collapsed": false,
    "ExecuteTime": {
     "end_time": "2024-03-24T06:47:42.786020Z",
     "start_time": "2024-03-24T06:47:42.771398Z"
    }
   },
   "id": "acf88fd7ecd4620c",
   "execution_count": 25
  },
  {
   "cell_type": "code",
   "outputs": [
    {
     "name": "stdout",
     "output_type": "stream",
     "text": [
      "0x7fe38e436ad0 0x7fe38e436bf0\n",
      "True\n"
     ]
    }
   ],
   "source": [
    "a = torch.tensor([[1., 2.], [3., 4.]])\n",
    "b = a.detach()\n",
    "print(hex(id(a)), hex(id(b)))\n",
    "print(hex(a.data_ptr()) == hex(b.data_ptr()))"
   ],
   "metadata": {
    "collapsed": false,
    "ExecuteTime": {
     "end_time": "2024-03-24T07:44:02.824348Z",
     "start_time": "2024-03-24T07:44:02.821480Z"
    }
   },
   "id": "92b3c0f6c7d474a4",
   "execution_count": 71
  },
  {
   "cell_type": "code",
   "outputs": [
    {
     "name": "stdout",
     "output_type": "stream",
     "text": [
      "Parameter containing:\n",
      "tensor([[0.0023, 0.0035]], requires_grad=True)\n"
     ]
    }
   ],
   "source": [],
   "metadata": {
    "collapsed": false,
    "ExecuteTime": {
     "end_time": "2024-03-24T07:07:41.928758Z",
     "start_time": "2024-03-24T07:07:41.925417Z"
    }
   },
   "id": "77bfa8f3089bbb4f",
   "execution_count": 59
  },
  {
   "cell_type": "code",
   "outputs": [
    {
     "name": "stdout",
     "output_type": "stream",
     "text": [
      "epoch 1, loss 0.00010356200073147193\n",
      "epoch 2, loss 0.00011207385978195816\n",
      "epoch 3, loss 0.00010679661500034854\n"
     ]
    }
   ],
   "source": [
    "model = nn.Linear(2, 1)\n",
    "model.weight.data.normal_(0, 0.01)\n",
    "model.bias.data.fill_(0)\n",
    "\n",
    "optimizer = torch.optim.SGD(model.parameters(), lr = 0.1)\n",
    "num_epochs = 3\n",
    "for epoch in range(num_epochs):\n",
    "    for x_batch, y_batch in data_iter:\n",
    "        l = loss(model(x_batch), y_batch)\n",
    "        optimizer.zero_grad()\n",
    "        l.backward()\n",
    "        optimizer.step()\n",
    "    \n",
    "    l = loss(model(features), labels)\n",
    "    print(f'epoch {epoch + 1}, loss {l:}')"
   ],
   "metadata": {
    "collapsed": false,
    "ExecuteTime": {
     "end_time": "2024-03-24T07:47:18.230725Z",
     "start_time": "2024-03-24T07:47:18.198965Z"
    }
   },
   "id": "9fd54e6f03bbf6ce",
   "execution_count": 73
  },
  {
   "cell_type": "code",
   "outputs": [],
   "source": [],
   "metadata": {
    "collapsed": false
   },
   "id": "9400140bf09a0f16"
  }
 ],
 "metadata": {
  "kernelspec": {
   "display_name": "Python 3",
   "language": "python",
   "name": "python3"
  },
  "language_info": {
   "codemirror_mode": {
    "name": "ipython",
    "version": 2
   },
   "file_extension": ".py",
   "mimetype": "text/x-python",
   "name": "python",
   "nbconvert_exporter": "python",
   "pygments_lexer": "ipython2",
   "version": "2.7.6"
  }
 },
 "nbformat": 4,
 "nbformat_minor": 5
}
