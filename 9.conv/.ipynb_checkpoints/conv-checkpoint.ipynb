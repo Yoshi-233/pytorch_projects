{
 "cells": [
  {
   "cell_type": "code",
   "execution_count": 2,
   "id": "bb92975f-28d5-4f7d-ab6a-ff852a0359e9",
   "metadata": {},
   "outputs": [],
   "source": [
    "import torch"
   ]
  },
  {
   "cell_type": "code",
   "execution_count": null,
   "id": "df9305c1-cab5-4bb1-a147-7cfe19813643",
   "metadata": {},
   "outputs": [],
   "source": [
    "def conv2d(arr : torch.Tensor, k : torch.Tensor, stride = 1) -> torch.Tensor:\n"
   ]
  },
  {
   "cell_type": "code",
   "execution_count": 3,
   "id": "49a3a184-61ce-46b3-b243-1eaab0ca9a17",
   "metadata": {},
   "outputs": [
    {
     "data": {
      "text/plain": [
       "torch.Tensor"
      ]
     },
     "execution_count": 3,
     "metadata": {},
     "output_type": "execute_result"
    }
   ],
   "source": [
    "type(torch.tensor([1, 2 ,3]))"
   ]
  },
  {
   "cell_type": "code",
   "execution_count": null,
   "id": "af58e33a-54e8-41d8-a839-dc84693f95ac",
   "metadata": {},
   "outputs": [],
   "source": []
  }
 ],
 "metadata": {
  "kernelspec": {
   "display_name": "Python 3 (ipykernel)",
   "language": "python",
   "name": "python3"
  },
  "language_info": {
   "codemirror_mode": {
    "name": "ipython",
    "version": 3
   },
   "file_extension": ".py",
   "mimetype": "text/x-python",
   "name": "python",
   "nbconvert_exporter": "python",
   "pygments_lexer": "ipython3",
   "version": "3.11.8"
  },
  "widgets": {
   "application/vnd.jupyter.widget-state+json": {
    "state": {},
    "version_major": 2,
    "version_minor": 0
   }
  }
 },
 "nbformat": 4,
 "nbformat_minor": 5
}
