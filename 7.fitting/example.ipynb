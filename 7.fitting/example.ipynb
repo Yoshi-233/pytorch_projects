{
 "cells": [
  {
   "cell_type": "code",
   "execution_count": 13,
   "id": "91fc4d9a",
   "metadata": {},
   "outputs": [],
   "source": [
    "import torch\n",
    "from torch.utils import data\n",
    "from torch import nn\n",
    "import numpy as np\n",
    "import math\n",
    "from d2l import torch as d2l"
   ]
  },
  {
   "cell_type": "markdown",
   "id": "8721d891",
   "metadata": {},
   "source": [
    "$f(x)=5+1.2x-3.4\\frac{x^2}{2!}+5.6\\frac{x^3}{3!}+\\epsilon\\ where\\ \\epsilon\\sim N(0, 0.01)$"
   ]
  },
  {
   "cell_type": "code",
   "execution_count": 6,
   "id": "321407ee",
   "metadata": {},
   "outputs": [
    {
     "name": "stdout",
     "output_type": "stream",
     "text": [
      "(20,)\n",
      "(200, 1)\n",
      "(200, 20)\n",
      "(200,)\n"
     ]
    }
   ],
   "source": [
    "max_degree = 20\n",
    "n_train, n_test = 100, 100\n",
    "w_true = np.zeros(max_degree)\n",
    "w_true[0:4] = [5, 1.2, -3.4, 5.6]\n",
    "print(w_true.shape) # [20]\n",
    "\n",
    "features = np.random.normal(size = (n_train + n_test, 1))\n",
    "print(features.shape)\n",
    "np.random.shuffle(features) # [200, 1]\n",
    "poly_features = np.power(features, np.arange(max_degree).reshape(1, -1)) # [1, 20]\n",
    "for i in range(max_degree):\n",
    "    poly_features[:, i] /= math.gamma(i + 1)\n",
    "    \n",
    "print(poly_features.shape) # [200, 20]\n",
    "labels = np.dot(poly_features, w_true)\n",
    "print(labels.shape)\n",
    "labels = np.random.normal(scale = 0.1, size = labels.shape)"
   ]
  },
  {
   "cell_type": "code",
   "execution_count": 8,
   "id": "3e868c7a",
   "metadata": {},
   "outputs": [
    {
     "name": "stdout",
     "output_type": "stream",
     "text": [
      "(4,) (2, 4)\n"
     ]
    },
    {
     "data": {
      "text/plain": [
       "array([10, 10])"
      ]
     },
     "execution_count": 8,
     "metadata": {},
     "output_type": "execute_result"
    }
   ],
   "source": [
    "x = np.array([1, 2, 3, 4])\n",
    "y = np.array([[1, 1, 1, 1], [1, 1, 1, 1]])\n",
    "print(x.shape, y.shape)\n",
    "np.dot(y, x)"
   ]
  },
  {
   "cell_type": "code",
   "execution_count": 12,
   "id": "e3eaea3d",
   "metadata": {},
   "outputs": [
    {
     "name": "stderr",
     "output_type": "stream",
     "text": [
      "/home/shao/anaconda3/envs/ai/lib/python3.7/site-packages/ipykernel_launcher.py:3: UserWarning: To copy construct from a tensor, it is recommended to use sourceTensor.clone().detach() or sourceTensor.clone().detach().requires_grad_(True), rather than torch.tensor(sourceTensor).\n",
      "  This is separate from the ipykernel package so we can avoid doing imports until\n"
     ]
    }
   ],
   "source": [
    "w_true, features, poly_features, labels = [\n",
    "                                               torch.tensor(i, dtype=torch.float32) \n",
    "                                               for i in [w_true, features, poly_features, labels]\n",
    "                                           ]"
   ]
  },
  {
   "cell_type": "code",
   "execution_count": 9,
   "id": "340b2ed5",
   "metadata": {},
   "outputs": [],
   "source": [
    "def evaluate_loss(net, data_iter, loss):\n",
    "    metric = d2l.Accumulator(2)\n",
    "    for X, y in data_iter:\n",
    "        y_hat = net(X)\n",
    "        y = y.reshpe(y_hat.shape)\n",
    "        l = loss(y_hat, y)\n",
    "        metric.add(l.sum(), l.numel())\n",
    "        \n",
    "    return metric[0] / metric[1]"
   ]
  },
  {
   "cell_type": "code",
   "execution_count": null,
   "id": "8f19a548",
   "metadata": {},
   "outputs": [],
   "source": [
    "def train(train_features, test_features, train_label, test_labels):\n",
    "    input_shape = train_features.shape[-1]\n",
    "    \n",
    "    loss = nn.MSELoss()\n",
    "    net = nn.Linear(input_shape, 1, bias=False)\n",
    "    "
   ]
  }
 ],
 "metadata": {
  "kernelspec": {
   "display_name": "Python 3 (ipykernel)",
   "language": "python",
   "name": "python3"
  },
  "language_info": {
   "codemirror_mode": {
    "name": "ipython",
    "version": 3
   },
   "file_extension": ".py",
   "mimetype": "text/x-python",
   "name": "python",
   "nbconvert_exporter": "python",
   "pygments_lexer": "ipython3",
   "version": "3.7.13"
  }
 },
 "nbformat": 4,
 "nbformat_minor": 5
}
