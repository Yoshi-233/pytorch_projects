{
 "cells": [
  {
   "cell_type": "code",
   "execution_count": 1,
   "id": "initial_id",
   "metadata": {},
   "outputs": [],
   "source": [
    "%matplotlib inline\n",
    "from IPython import display\n",
    "import torch\n",
    "import torchvision\n",
    "from torch.utils import data\n",
    "from torchvision import transforms\n",
    "from d2l import torch as d2l\n",
    "from tqdm import tqdm, trange\n",
    "from collections import abc"
   ]
  },
  {
   "cell_type": "code",
   "execution_count": 2,
   "id": "9ff6886fc690f325",
   "metadata": {},
   "outputs": [],
   "source": [
    "batch_size = 256\n",
    "train_iter, test_iter = d2l.load_data_fashion_mnist(batch_size)"
   ]
  },
  {
   "cell_type": "code",
   "execution_count": 3,
   "id": "5106242c80bb8489",
   "metadata": {},
   "outputs": [],
   "source": [
    "num_inputs = 784\n",
    "num_outputs = 10\n",
    "\n",
    "W = torch.normal(0, 1, (num_inputs, num_outputs)).requires_grad_(True)\n",
    "b = torch.zeros(num_outputs).requires_grad_(True)"
   ]
  },
  {
   "cell_type": "code",
   "execution_count": 4,
   "id": "516dc18f561080ee",
   "metadata": {},
   "outputs": [],
   "source": [
    "def softmax(X):\n",
    "        X_exp = torch.exp(X)\n",
    "        partition = X_exp.sum(1, keepdim=True)\n",
    "        return X_exp / partition"
   ]
  },
  {
   "cell_type": "code",
   "execution_count": 5,
   "id": "8d5bf6487272d0f1",
   "metadata": {},
   "outputs": [],
   "source": [
    "def net(X):\n",
    "        return softmax(torch.mm(X.view((-1, num_inputs)), W) + b)\n",
    "\n",
    "\n",
    "def cross_entropy(pred, label):\n",
    "        return -torch.log(pred[range(len(pred)), label])"
   ]
  },
  {
   "cell_type": "code",
   "execution_count": 6,
   "id": "57829b91c026fdb6",
   "metadata": {},
   "outputs": [
    {
     "name": "stdout",
     "output_type": "stream",
     "text": [
      "torch.Size([256, 1, 28, 28]) torch.Size([256])\n",
      "torch.Size([256, 784])\n",
      "torch.Size([256, 10])\n",
      "torch.Size([256])\n",
      "torch.Size([256])\n"
     ]
    }
   ],
   "source": [
    "(X, y) = next(iter(train_iter))\n",
    "print(X.shape, y.shape)\n",
    "print(X.view(-1, num_inputs).shape)\n",
    "pred = net(X)\n",
    "print(pred.shape)\n",
    "print(pred[range(len(pred)), y].shape)\n",
    "print(pred.argmax(axis=1).shape)"
   ]
  },
  {
   "cell_type": "code",
   "execution_count": 7,
   "id": "78cd68092792e17a",
   "metadata": {},
   "outputs": [
    {
     "name": "stdout",
     "output_type": "stream",
     "text": [
      "tensor([[0.1000, 0.3000, 0.6000],\n",
      "        [0.3000, 0.2000, 0.5000]])\n",
      "tensor([0.1000, 0.5000])\n",
      "tensor([2.3026, 0.6931])\n"
     ]
    }
   ],
   "source": [
    "y = torch.tensor([0, 2])\n",
    "y_hat = torch.tensor([[0.1, 0.3, 0.6], [0.3, 0.2, 0.5]])\n",
    "print(y_hat)\n",
    "print(y_hat[[0, 1], y])\n",
    "\n",
    "print(cross_entropy(y_hat, y))"
   ]
  },
  {
   "cell_type": "code",
   "execution_count": 8,
   "id": "f5f6407e38c47951",
   "metadata": {},
   "outputs": [
    {
     "data": {
      "text/plain": [
       "0.5"
      ]
     },
     "execution_count": 8,
     "metadata": {},
     "output_type": "execute_result"
    }
   ],
   "source": [
    "def accuracy(pred, label):\n",
    "        if len(pred) > 1 and pred.shape[1] > 1:\n",
    "                pred = pred.argmax(axis=1)\n",
    "        cmp = pred.type(label.dtype) == label\n",
    "        return float(cmp.type(torch.float32).mean())\n",
    "\n",
    "\n",
    "accuracy(y_hat, y)"
   ]
  },
  {
   "cell_type": "code",
   "execution_count": 9,
   "id": "9ba50ca9acf4dfd3",
   "metadata": {},
   "outputs": [],
   "source": [
    "class Accumulator:\n",
    "        def __init__(self, n):\n",
    "                self.data = [0.0] * n\n",
    "\n",
    "        def add(self, *args):\n",
    "                self.data = [a + float(b) for a, b in zip(self.data, args)]\n",
    "\n",
    "        def reset(self):\n",
    "                self.data = [0.0] * len(self.data)\n",
    "\n",
    "        def __getitem__(self, idx):\n",
    "                return self.data[idx]\n",
    "\n",
    "\n",
    "def evaluate_accuracy(data_iter, net):\n",
    "        if isinstance(net, torch.nn.Module):\n",
    "                net.eval()  # Set the model to evaluation mode\n",
    "        metric = Accumulator(2)  # Accumulator for loss and accuracy\n",
    "        with torch.no_grad():\n",
    "                for X, y in data_iter:\n",
    "                        metric.add(accuracy(net(X), y), y.numel())\n",
    "\n",
    "        return metric[0] / metric[1]"
   ]
  },
  {
   "cell_type": "code",
   "execution_count": 10,
   "id": "910ed5094969703",
   "metadata": {},
   "outputs": [],
   "source": [
    "def train_epoch(net, train_iter, lose, optimizer):\n",
    "        if isinstance(net, torch.nn.Module):\n",
    "                net.train()  # Set the model to training mode\n",
    "        metric = Accumulator(3)  # Accumulator for loss, accuracy, and count\n",
    "        for X, y in train_iter:\n",
    "                y_hat = net(X)\n",
    "                l = lose(y_hat, y)\n",
    "                if isinstance(optimizer, torch.optim.Optimizer):\n",
    "                        optimizer.zero_grad()\n",
    "                        l.backward()\n",
    "                        optimizer.step()\n",
    "                        metric.add(float(l) * len(y), accuracy(y_hat, y), y.numel())\n",
    "                else:\n",
    "                        l.sum().backward()\n",
    "                        optimizer(X.shape[0])\n",
    "                        metric.add(float(l.sum()), accuracy(y_hat, y), y.numel())\n",
    "        return metric[0] / metric[2], metric[1] / metric[2]"
   ]
  },
  {
   "cell_type": "code",
   "execution_count": 17,
   "id": "3ae394b349b575c9",
   "metadata": {},
   "outputs": [],
   "source": [
    "class Animator:\n",
    "        \"\"\"For plotting data in animation.\"\"\"\n",
    "\n",
    "        def __init__(self, xlabel=None, ylabel=None, legend=None, xlim=None,\n",
    "                     ylim=None, xscale='linear', yscale='linear',\n",
    "                     fmts=('-', 'm--', 'g-.', 'r:'), nrows=1, ncols=1,\n",
    "                     figsize=(3.5, 2.5)):\n",
    "                \"\"\"Defined in :numref:`sec_softmax_scratch`\"\"\"\n",
    "                # Incrementally plot multiple lines\n",
    "                if legend is None:\n",
    "                        legend = []\n",
    "                d2l.use_svg_display()\n",
    "                self.fig, self.axes = d2l.plt.subplots(nrows, ncols, figsize=figsize)\n",
    "                if nrows * ncols == 1:\n",
    "                        self.axes = [self.axes, ]\n",
    "                # Use a lambda function to capture arguments\n",
    "                self.config_axes = lambda: d2l.set_axes(\n",
    "                        self.axes[0], xlabel, ylabel, xlim, ylim, xscale, yscale, legend)\n",
    "                self.X, self.Y, self.fmts = None, None, fmts\n",
    "\n",
    "        def add(self, x, y):\n",
    "                # Add multiple data points into the figure\n",
    "                if not hasattr(y, \"__len__\"):\n",
    "                        y = [y]\n",
    "                n = len(y)\n",
    "                if not hasattr(x, \"__len__\"):\n",
    "                        x = [x] * n\n",
    "                if not self.X:\n",
    "                        self.X = [[] for _ in range(n)]\n",
    "                if not self.Y:\n",
    "                        self.Y = [[] for _ in range(n)]\n",
    "                for i, (a, b) in enumerate(zip(x, y)):\n",
    "                        if a is not None and b is not None:\n",
    "                                self.X[i].append(a)\n",
    "                                self.Y[i].append(b)\n",
    "                self.axes[0].cla()\n",
    "                for x, y, fmt in zip(self.X, self.Y, self.fmts):\n",
    "                        self.axes[0].plot(x, y, fmt)\n",
    "                self.config_axes()\n",
    "                display.display(self.fig)\n",
    "                d2l.plt.draw()\n",
    "                d2l.plt.pause(0.01)\n",
    "                display.clear_output(wait=True)\n",
    "                "
   ]
  },
  {
   "cell_type": "code",
   "execution_count": 21,
   "id": "901a4bada9020831",
   "metadata": {},
   "outputs": [],
   "source": [
    "def train(net, train_iter, test_iter, loss, num_epochs, optimizer):\n",
    "        animator = Animator(xlabel='epoch', xlim=[1, num_epochs], ylim=[0.3, 0.9],\n",
    "                            legend=['train loss', 'train acc', 'test acc'])\n",
    "\n",
    "        for epoch in trange(num_epochs):\n",
    "                train_metrics = train_epoch(net, train_iter, loss, optimizer)\n",
    "                test_acc = evaluate_accuracy(test_iter, net)\n",
    "                animator.add(epoch + 1, train_metrics + (test_acc,))\n",
    "                d2l.plt.show()\n",
    "\n",
    "                train_loss, train_acc = train_metrics\n",
    "                print(train_loss, train_acc, test_acc)\n"
   ]
  },
  {
   "cell_type": "code",
   "execution_count": 22,
   "id": "38305b8f56c68ff",
   "metadata": {},
   "outputs": [],
   "source": [
    "lr = 0.1\n",
    "num_epochs = 10\n",
    "\n",
    "def updater(batch_size):\n",
    "        return d2l.sgd([W, b], lr, batch_size)"
   ]
  },
  {
   "cell_type": "code",
   "execution_count": 23,
   "id": "845d1e2a6d479967",
   "metadata": {},
   "outputs": [
    {
     "name": "stderr",
     "output_type": "stream",
     "text": [
      "100%|██████████████████████████████████████████████████████████████████████████████████████████████████████████████████████████████████████████| 10/10 [00:13<00:00,  1.30s/it]"
     ]
    },
    {
     "name": "stdout",
     "output_type": "stream",
     "text": [
      "0.6519392424265543 0.0031909071177244185 0.003176171875\n"
     ]
    },
    {
     "name": "stderr",
     "output_type": "stream",
     "text": [
      "\n"
     ]
    }
   ],
   "source": [
    "train(net, train_iter, test_iter, cross_entropy, num_epochs, updater)"
   ]
  },
  {
   "cell_type": "code",
   "execution_count": null,
   "id": "37f4839f1829be53",
   "metadata": {},
   "outputs": [],
   "source": []
  }
 ],
 "metadata": {
  "kernelspec": {
   "display_name": "Python 3 (ipykernel)",
   "language": "python",
   "name": "python3"
  },
  "language_info": {
   "codemirror_mode": {
    "name": "ipython",
    "version": 3
   },
   "file_extension": ".py",
   "mimetype": "text/x-python",
   "name": "python",
   "nbconvert_exporter": "python",
   "pygments_lexer": "ipython3",
   "version": "3.7.13"
  }
 },
 "nbformat": 4,
 "nbformat_minor": 5
}
