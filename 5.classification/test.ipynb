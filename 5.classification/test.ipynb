{
 "cells": [
  {
   "cell_type": "code",
   "execution_count": 1,
   "id": "initial_id",
   "metadata": {
    "collapsed": true,
    "ExecuteTime": {
     "end_time": "2024-03-24T11:21:43.629103Z",
     "start_time": "2024-03-24T11:21:43.225938Z"
    }
   },
   "outputs": [],
   "source": [
    "import torch"
   ]
  },
  {
   "cell_type": "code",
   "outputs": [
    {
     "name": "stdout",
     "output_type": "stream",
     "text": [
      "0x560f687a8200\n"
     ]
    }
   ],
   "source": [
    "x = torch.tensor([1,2,3,4,5,6,7,8,9,10])\n",
    "print(hex(x.data_ptr()))"
   ],
   "metadata": {
    "collapsed": false,
    "ExecuteTime": {
     "end_time": "2024-03-24T11:22:01.683132Z",
     "start_time": "2024-03-24T11:22:01.679970Z"
    }
   },
   "id": "8d3c791dbf4bd287",
   "execution_count": 2
  },
  {
   "cell_type": "code",
   "outputs": [
    {
     "name": "stdout",
     "output_type": "stream",
     "text": [
      "0x560f687a8200\n"
     ]
    }
   ],
   "source": [
    "y = x.detach()\n",
    "print(hex(y.data_ptr()))"
   ],
   "metadata": {
    "collapsed": false,
    "ExecuteTime": {
     "end_time": "2024-03-24T11:22:17.527639Z",
     "start_time": "2024-03-24T11:22:17.525027Z"
    }
   },
   "id": "38cb6ebe30af4698",
   "execution_count": 3
  },
  {
   "cell_type": "code",
   "outputs": [
    {
     "name": "stdout",
     "output_type": "stream",
     "text": [
      "0x560f687d57c0\n"
     ]
    }
   ],
   "source": [
    "z = y.clone()\n",
    "print(hex(z.data_ptr()))"
   ],
   "metadata": {
    "collapsed": false,
    "ExecuteTime": {
     "end_time": "2024-03-24T11:22:20.336173Z",
     "start_time": "2024-03-24T11:22:20.333224Z"
    }
   },
   "id": "4e35a56b8de091d8",
   "execution_count": 4
  },
  {
   "cell_type": "code",
   "outputs": [
    {
     "name": "stdout",
     "output_type": "stream",
     "text": [
      "torch.Size([18, 1, 28, 28])\n",
      "torch.Size([18, 28, 28])\n",
      "0x560f68825b00\n",
      "0x560f68825b00\n"
     ]
    }
   ],
   "source": [
    "# 创建一个示例张量\n",
    "tensor = torch.randn(18, 1, 28, 28)\n",
    "\n",
    "# 使用torch.squeeze()消除长度为1的维度\n",
    "squeezed_tensor = tensor.squeeze()\n",
    "print(tensor.size())\n",
    "print(squeezed_tensor.size())\n",
    "print(hex(tensor.data_ptr()))\n",
    "print(hex(squeezed_tensor.data_ptr()))"
   ],
   "metadata": {
    "collapsed": false,
    "ExecuteTime": {
     "end_time": "2024-03-24T11:28:08.662698Z",
     "start_time": "2024-03-24T11:28:08.659791Z"
    }
   },
   "id": "705834710cebecae",
   "execution_count": 12
  },
  {
   "cell_type": "code",
   "outputs": [
    {
     "name": "stdout",
     "output_type": "stream",
     "text": [
      "torch.Size([18, 1, 28, 28])\n"
     ]
    }
   ],
   "source": [
    "unsqueezed_tensor = squeezed_tensor.unsqueeze(1)\n",
    "print(unsqueezed_tensor.size())"
   ],
   "metadata": {
    "collapsed": false,
    "ExecuteTime": {
     "end_time": "2024-03-24T11:28:31.669203Z",
     "start_time": "2024-03-24T11:28:31.666575Z"
    }
   },
   "id": "bb792904f24c6aa0",
   "execution_count": 14
  },
  {
   "cell_type": "code",
   "outputs": [
    {
     "name": "stdout",
     "output_type": "stream",
     "text": [
      "[1, 0]\n"
     ]
    }
   ],
   "source": [
    "x = [0]\n",
    "x.insert(0, 1)\n",
    "print(x)"
   ],
   "metadata": {
    "collapsed": false,
    "ExecuteTime": {
     "end_time": "2024-03-24T11:45:16.119757Z",
     "start_time": "2024-03-24T11:45:16.116987Z"
    }
   },
   "id": "aacaa426def1e576",
   "execution_count": 15
  },
  {
   "cell_type": "code",
   "outputs": [
    {
     "name": "stdout",
     "output_type": "stream",
     "text": [
      "<class 'torchvision.transforms.transforms.ToTensor'>\n",
      "<class 'torchvision.transforms.transforms.Compose'>\n"
     ]
    }
   ],
   "source": [
    "from torchvision import transforms\n",
    "trans = [transforms.ToTensor()]\n",
    "print(type(trans[0]))\n",
    "trans = transforms.Compose(trans)\n",
    "print(type(trans))"
   ],
   "metadata": {
    "collapsed": false,
    "ExecuteTime": {
     "end_time": "2024-03-24T11:46:56.315199Z",
     "start_time": "2024-03-24T11:46:56.312179Z"
    }
   },
   "id": "1f73a50ff6ce3c1f",
   "execution_count": 18
  },
  {
   "cell_type": "code",
   "outputs": [
    {
     "name": "stdout",
     "output_type": "stream",
     "text": [
      "tensor([[0.1000, 0.3000, 0.6000],\n",
      "        [0.3000, 0.2000, 0.5000]])\n"
     ]
    },
    {
     "data": {
      "text/plain": "tensor([0.1000, 0.5000])"
     },
     "execution_count": 37,
     "metadata": {},
     "output_type": "execute_result"
    }
   ],
   "source": [
    "y = torch.tensor([0, 2])\n",
    "y_hat = torch.tensor([[0.1, 0.3, 0.6], [0.3, 0.2, 0.5]])\n",
    "print(y_hat)\n",
    "y_hat[[0, 1], [0, 2]]"
   ],
   "metadata": {
    "collapsed": false,
    "ExecuteTime": {
     "end_time": "2024-03-24T12:16:29.546491Z",
     "start_time": "2024-03-24T12:16:29.541871Z"
    }
   },
   "id": "71f7eb59ff4c0157",
   "execution_count": 37
  },
  {
   "cell_type": "code",
   "outputs": [
    {
     "name": "stdout",
     "output_type": "stream",
     "text": [
      "[0.0, 0.0]\n"
     ]
    }
   ],
   "source": [
    "x = [0.0] * 2\n",
    "print(x)"
   ],
   "metadata": {
    "collapsed": false,
    "ExecuteTime": {
     "end_time": "2024-03-24T12:39:35.748202Z",
     "start_time": "2024-03-24T12:39:35.745133Z"
    }
   },
   "id": "c1a390aada101636",
   "execution_count": 38
  },
  {
   "cell_type": "code",
   "outputs": [],
   "source": [
    "x = (1, 2, 3)\n",
    "y = (10,)"
   ],
   "metadata": {
    "collapsed": false,
    "ExecuteTime": {
     "end_time": "2024-03-24T13:23:37.228472Z",
     "start_time": "2024-03-24T13:23:37.225827Z"
    }
   },
   "id": "c08de680c9f425e1",
   "execution_count": 39
  },
  {
   "cell_type": "code",
   "outputs": [
    {
     "data": {
      "text/plain": "(1, 2, 3, 10)"
     },
     "execution_count": 40,
     "metadata": {},
     "output_type": "execute_result"
    }
   ],
   "source": [
    "x+y"
   ],
   "metadata": {
    "collapsed": false,
    "ExecuteTime": {
     "end_time": "2024-03-24T13:23:41.750400Z",
     "start_time": "2024-03-24T13:23:41.747368Z"
    }
   },
   "id": "6be004f989ac5a8e",
   "execution_count": 40
  },
  {
   "cell_type": "code",
   "outputs": [],
   "source": [
    "from d2l import torch as d2l "
   ],
   "metadata": {
    "collapsed": false,
    "ExecuteTime": {
     "end_time": "2024-03-24T14:24:07.832585Z",
     "start_time": "2024-03-24T14:24:06.985204Z"
    }
   },
   "id": "e55bbaa0c6fdf91a",
   "execution_count": 1
  },
  {
   "cell_type": "code",
   "outputs": [],
   "source": [
    "d2l.Animator"
   ],
   "metadata": {
    "collapsed": false
   },
   "id": "450550ea2bd57795"
  }
 ],
 "metadata": {
  "kernelspec": {
   "display_name": "Python 3",
   "language": "python",
   "name": "python3"
  },
  "language_info": {
   "codemirror_mode": {
    "name": "ipython",
    "version": 2
   },
   "file_extension": ".py",
   "mimetype": "text/x-python",
   "name": "python",
   "nbconvert_exporter": "python",
   "pygments_lexer": "ipython2",
   "version": "2.7.6"
  }
 },
 "nbformat": 4,
 "nbformat_minor": 5
}
