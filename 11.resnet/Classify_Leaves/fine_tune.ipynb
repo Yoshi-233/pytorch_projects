{
 "cells": [
  {
   "cell_type": "code",
   "execution_count": 1,
   "id": "61e638a7-33f5-433d-b592-a030c5d0520b",
   "metadata": {},
   "outputs": [],
   "source": [
    "import torch\n",
    "from torch import nn\n",
    "from torch.nn import functional as F\n",
    "from d2l import torch as d2l\n",
    "\n",
    "import os\n",
    "import torchvision\n",
    "from torchvision import transforms\n",
    "from PIL import Image\n",
    "import pandas as pd\n",
    "import numpy as np\n",
    "import matplotlib.pyplot as plt\n",
    "from torch.utils.data import Dataset, DataLoader, SubsetRandomSampler"
   ]
  },
  {
   "cell_type": "code",
   "execution_count": null,
   "id": "985e9858-e0a6-42d2-9510-1c721aac6994",
   "metadata": {},
   "outputs": [],
   "source": [
    "img = Image.open(\"./images/0.jpg\")\n",
    "plt.imshow(img)"
   ]
  },
  {
   "cell_type": "code",
   "execution_count": null,
   "id": "a70982e2-a38d-4fbd-ad96-0332fa5e08a3",
   "metadata": {},
   "outputs": [],
   "source": [
    "class LeavesImageDatasets(Dataset):\n",
    "    def __init__(self, img_labels, transform = None):\n",
    "        # super().__init__() # TODO:是否必须？\n",
    "        self.transform = transform\n",
    "\n",
    "        self.labels_df = pd.read_csv(img_labels)\n",
    "        if self.labels_df.shape[1] > 1:\n",
    "            self.is_train = True\n",
    "\n",
    "            label_mapping = {}\n",
    "            for i, label in enumerate(self.labels_df[\"label\"].unique()):\n",
    "                label_mapping[label] = i\n",
    "            \n",
    "            self.labels_df[\"label\"] = self.labels_df[\"label\"].map(label_mapping)\n",
    "            self.labels = torch.tensor(self.labels_df[\"label\"])\n",
    "        else:\n",
    "            self.is_train = False\n",
    "            \n",
    "    def __len__(self):\n",
    "        return self.labels_df.shape[0]\n",
    "        \n",
    "    def __getitem__(self, index):\n",
    "        image = Image.open(self.labels_df.iloc[index, 0])\n",
    "        if self.transform:\n",
    "            image = self.transform(image)\n",
    "\n",
    "        if self.is_train:\n",
    "            return image, self.labels[index]\n",
    "        else:\n",
    "            return image"
   ]
  },
  {
   "cell_type": "code",
   "execution_count": null,
   "id": "45b93cf2-aaec-460c-8131-46acd4b845e8",
   "metadata": {},
   "outputs": [],
   "source": [
    "batch_size = 256\n",
    "\n",
    "transform = transforms.Compose([\n",
    "    transforms.ToTensor(),\n",
    "    transforms.Normalize(mean=[0.485, 0.456, 0.406], std=[0.229, 0.224, 0.225]),\n",
    "])\n",
    "\n",
    "leavesImageTrainDatasets = LeavesImageDatasets(img_labels=\"./train.csv\", transform=transform)\n",
    "num_samples = len(leavesImageTrainDatasets)\n",
    "valid_size = int(0.2 * num_samples)  # 20% 的数据用作验证集\n",
    "\n",
    "# 创建训练集和验证集的索引\n",
    "indices = list(range(num_samples))\n",
    "np.random.shuffle(indices)\n",
    "valid_indices = indices[:valid_size]\n",
    "train_indices = indices[valid_size:]\n",
    "\n",
    "train_sampler = SubsetRandomSampler(train_indices)\n",
    "valid_sampler = SubsetRandomSampler(valid_indices)\n",
    "train_iter = DataLoader(leavesImageTrainDatasets, batch_size=batch_size, num_workers=4, sampler=train_sampler)\n",
    "valid_iter = DataLoader(leavesImageTrainDatasets, batch_size=batch_size, num_workers=4, sampler=valid_sampler)\n",
    "\n",
    "leavesImageTestDatasets = LeavesImageDatasets(img_labels=\"./test.csv\", transform=transform)\n",
    "test_iter = DataLoader(leavesImageTestDatasets, batch_size=256, shuffle=False, num_workers=4)\n",
    "len(leavesImageTrainDatasets)"
   ]
  },
  {
   "cell_type": "code",
   "execution_count": null,
   "id": "a3534faa-3305-444f-91be-e62935390e8d",
   "metadata": {},
   "outputs": [],
   "source": [
    "net = torchvision.models.resnet18(weights=torchvision.models.ResNet18_Weights.IMAGENET1K_V1)\n",
    "net.fc = nn.Linear(net.fc.in_features, 176)"
   ]
  },
  {
   "cell_type": "code",
   "execution_count": 2,
   "id": "b52930aa-2ccf-4397-9632-cf4da0ab2c0b",
   "metadata": {},
   "outputs": [
    {
     "name": "stdout",
     "output_type": "stream",
     "text": [
      "Help on function resnet18 in module torchvision.models.resnet:\n",
      "\n",
      "resnet18(*, weights: Optional[torchvision.models.resnet.ResNet18_Weights] = None, progress: bool = True, **kwargs: Any) -> torchvision.models.resnet.ResNet\n",
      "    ResNet-18 from `Deep Residual Learning for Image Recognition <https://arxiv.org/pdf/1512.03385.pdf>`__.\n",
      "    \n",
      "    Args:\n",
      "        weights (:class:`~torchvision.models.ResNet18_Weights`, optional): The\n",
      "            pretrained weights to use. See\n",
      "            :class:`~torchvision.models.ResNet18_Weights` below for\n",
      "            more details, and possible values. By default, no pre-trained\n",
      "            weights are used.\n",
      "        progress (bool, optional): If True, displays a progress bar of the\n",
      "            download to stderr. Default is True.\n",
      "        **kwargs: parameters passed to the ``torchvision.models.resnet.ResNet``\n",
      "            base class. Please refer to the `source code\n",
      "            <https://github.com/pytorch/vision/blob/main/torchvision/models/resnet.py>`_\n",
      "            for more details about this class.\n",
      "    \n",
      "    .. autoclass:: torchvision.models.ResNet18_Weights\n",
      "        :members:\n",
      "\n"
     ]
    }
   ],
   "source": [
    "help(torchvision.models.resnet18)"
   ]
  },
  {
   "cell_type": "code",
   "execution_count": 5,
   "id": "c293a2ee-655e-4e26-9d54-513bf6615291",
   "metadata": {},
   "outputs": [
    {
     "name": "stdout",
     "output_type": "stream",
     "text": [
      "<enum 'ResNet18_Weights'>\n"
     ]
    }
   ],
   "source": [
    "print(torchvision.models.ResNet18_Weights)"
   ]
  },
  {
   "cell_type": "code",
   "execution_count": null,
   "id": "977e468a-5794-4db1-a41b-06372dcbf536",
   "metadata": {
    "scrolled": true
   },
   "outputs": [],
   "source": [
    "X = torch.rand((1, 3, 224, 224))\n",
    "print(net(X).shape)\n",
    "\n",
    "total_params = 0\n",
    "for name, param in net.named_parameters():\n",
    "    print(f\"Layer: {name} | Size: {param.size()} | Count: {param.nelement()} | {param.data.dtype}\")\n",
    "    total_params += param.nelement()\n",
    "\n",
    "print(f\"Total parameters count: {total_params}\")"
   ]
  },
  {
   "cell_type": "code",
   "execution_count": null,
   "id": "c499b234-4b9d-4f89-8eaf-fa649f8415ce",
   "metadata": {},
   "outputs": [],
   "source": [
    "def train_ch6(net, train_iter, test_iter, num_epochs, lr, device):\n",
    "    \"\"\"Train a model with a GPU (defined in Chapter 6).\n",
    "\n",
    "    Defined in :numref:`sec_lenet`\"\"\"\n",
    "    def init_weights(m):\n",
    "        if type(m) == nn.Linear or type(m) == nn.Conv2d:\n",
    "            nn.init.xavier_uniform_(m.weight)\n",
    "    net.apply(init_weights)\n",
    "    print('training on', device)\n",
    "    net.to(device)\n",
    "\n",
    "    params_lx = [\n",
    "        param for name, param in net.named_parameters()\n",
    "        if name not in [\"fc.weight\", \"fc.bias\"]\n",
    "    ]\n",
    "    optimizer = torch.optim.Adam([\n",
    "        { \"params\" : params_lx }, \n",
    "        { \n",
    "            \"params\" : net.fc.parameters(),\n",
    "            \"lr\" : lr * 10\n",
    "        }\n",
    "    ], lr=lr, weight_decay=0.001)\n",
    "    \n",
    "    loss = nn.CrossEntropyLoss()\n",
    "\n",
    "    timer, num_batches = d2l.Timer(), len(train_iter)\n",
    "    for epoch in range(num_epochs):\n",
    "        # Sum of training loss, sum of training accuracy, no. of examples\n",
    "        metric = d2l.Accumulator(3)\n",
    "        net.train()\n",
    "        for i, (X, y) in enumerate(train_iter):\n",
    "            timer.start()\n",
    "            optimizer.zero_grad()\n",
    "            X, y = X.to(device), y.to(device)\n",
    "            y_hat = net(X)\n",
    "            l = loss(y_hat, y)\n",
    "            l.backward()\n",
    "            optimizer.step()\n",
    "            with torch.no_grad():\n",
    "                metric.add(l * X.shape[0], d2l.accuracy(y_hat, y), X.shape[0])\n",
    "            timer.stop()\n",
    "            train_l = metric[0] / metric[2]\n",
    "            train_acc = metric[1] / metric[2]\n",
    "            # if (i + 1) % (num_batches // 5) == 0 or i == num_batches - 1:\n",
    "            #     animator.add(epoch + (i + 1) / num_batches,\n",
    "            #                  (train_l, train_acc, None))\n",
    "        test_acc = d2l.evaluate_accuracy_gpu(net, test_iter)\n",
    "        # animator.add(epoch + 1, (None, None, test_acc))\n",
    "        print(f'epoch:{epoch} loss {train_l:.3f}, train acc {train_acc:.3f}, test acc {test_acc:.3f}')\n",
    "    print(f'{metric[2] * num_epochs / timer.sum():.1f} examples/sec '\n",
    "          f'on {str(device)}')"
   ]
  },
  {
   "cell_type": "code",
   "execution_count": null,
   "id": "62ca7fc0-86c1-48d1-b853-c8a08ad79af2",
   "metadata": {},
   "outputs": [],
   "source": [
    "num_epochs, lr = 5, 5e-5\n",
    "\n",
    "train_ch6(net, train_iter, valid_iter, num_epochs, lr, d2l.try_gpu())"
   ]
  },
  {
   "cell_type": "code",
   "execution_count": null,
   "id": "a1e27d9e-e1dd-4101-9b68-14ffb21659c3",
   "metadata": {},
   "outputs": [],
   "source": [
    "len(leavesImageTestDatasets)"
   ]
  },
  {
   "cell_type": "code",
   "execution_count": null,
   "id": "41e4c050-d4ba-43c9-a2ff-8e4785648474",
   "metadata": {},
   "outputs": [],
   "source": [
    "labels_df = pd.read_csv(\"train.csv\")\n",
    "text_labels = []\n",
    "for label in labels_df[\"label\"].unique():\n",
    "    text_labels.append(label)\n",
    "\n",
    "def get_leaves_labels(labels):\n",
    "    return [text_labels[int(i)] for i in labels]"
   ]
  },
  {
   "cell_type": "code",
   "execution_count": null,
   "id": "47c7449c-c867-43c9-b0c4-8681c3143e2f",
   "metadata": {},
   "outputs": [],
   "source": [
    "def predict(net, leavesImageTestDatasets, device=\"cuda\"):\n",
    "    net.eval()\n",
    "    preds =[]\n",
    "    for X in leavesImageTestDatasets:\n",
    "        X = X.to(device)\n",
    "        X = X.reshape((1, ) + X.shape)\n",
    "        net = net.to(device)\n",
    "        preds.append(get_leaves_labels(d2l.argmax(net(X).to(\"cpu\"), axis=1)))\n",
    "\n",
    "    idx_df = pd.read_csv(\"test.csv\")\n",
    "    preds = pd.DataFrame(preds, columns=[\"label\"])\n",
    "    preds = pd.concat((idx_df, preds), axis=1)\n",
    "    \n",
    "    preds.to_csv('submission.csv', index=False)"
   ]
  },
  {
   "cell_type": "code",
   "execution_count": null,
   "id": "7b3840c6-b383-447c-9a4b-5434573ca080",
   "metadata": {},
   "outputs": [],
   "source": [
    "predict(net, leavesImageTestDatasets, device=\"cuda\")"
   ]
  },
  {
   "cell_type": "code",
   "execution_count": null,
   "id": "71ebfc8b-9060-4a52-9e57-3288e727097c",
   "metadata": {},
   "outputs": [],
   "source": []
  }
 ],
 "metadata": {
  "kernelspec": {
   "display_name": "Python 3 (ipykernel)",
   "language": "python",
   "name": "python3"
  },
  "language_info": {
   "codemirror_mode": {
    "name": "ipython",
    "version": 3
   },
   "file_extension": ".py",
   "mimetype": "text/x-python",
   "name": "python",
   "nbconvert_exporter": "python",
   "pygments_lexer": "ipython3",
   "version": "3.11.8"
  },
  "widgets": {
   "application/vnd.jupyter.widget-state+json": {
    "state": {},
    "version_major": 2,
    "version_minor": 0
   }
  }
 },
 "nbformat": 4,
 "nbformat_minor": 5
}
